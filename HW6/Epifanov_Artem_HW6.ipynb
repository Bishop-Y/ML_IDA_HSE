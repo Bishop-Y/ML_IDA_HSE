{
  "cells": [
    {
      "attachments": {},
      "cell_type": "markdown",
      "metadata": {
        "id": "xrvOD02o3HvH"
      },
      "source": [
        "# Домашнее задание 6: классификация текстов"
      ]
    },
    {
      "attachments": {},
      "cell_type": "markdown",
      "metadata": {
        "id": "sxwj_Iie3HvJ"
      },
      "source": [
        "В этом домашнем задании вам предстоит построить классификатор текстов!\n",
        "\n",
        "Данные мы будем использовать из Kaggle соревнования: https://www.kaggle.com/competitions/nlp-getting-started/data \n",
        "\n",
        "\n",
        "Оттуда надо скачать файл train.csv. На обучающую и тестовую выборки его поделим кодом ниже, менять его не надо!"
      ]
    },
    {
      "attachments": {},
      "cell_type": "markdown",
      "metadata": {
        "id": "qQVgqLg93HvJ"
      },
      "source": [
        "Мы будем работать с датасетом постов из твиттера. Нам предстоит решать задачу бинарной классификации - определять содержатся ли в твитте информация о настоящей катастрофе/инциденте или нет."
      ]
    },
    {
      "cell_type": "code",
      "execution_count": 2,
      "metadata": {
        "id": "TcjEYh7R3HvK"
      },
      "outputs": [],
      "source": [
        "import numpy as np\n",
        "import pandas as pd\n",
        "from typing import  List\n",
        "import matplotlib.pyplot as plt\n",
        "import seaborn as sns\n",
        "from string import punctuation\n",
        "import warnings\n",
        "warnings.filterwarnings(\"ignore\")"
      ]
    },
    {
      "cell_type": "code",
      "execution_count": 3,
      "metadata": {
        "id": "mjwffGiB3HvK"
      },
      "outputs": [],
      "source": [
        "data = pd.read_csv('train.csv')"
      ]
    },
    {
      "cell_type": "code",
      "execution_count": 4,
      "metadata": {
        "colab": {
          "base_uri": "https://localhost:8080/",
          "height": 206
        },
        "id": "v0uUoFTN3HvK",
        "outputId": "0d37d677-a00d-449c-8f86-6f85dce2ef4a"
      },
      "outputs": [
        {
          "data": {
            "text/html": [
              "<div>\n",
              "<style scoped>\n",
              "    .dataframe tbody tr th:only-of-type {\n",
              "        vertical-align: middle;\n",
              "    }\n",
              "\n",
              "    .dataframe tbody tr th {\n",
              "        vertical-align: top;\n",
              "    }\n",
              "\n",
              "    .dataframe thead th {\n",
              "        text-align: right;\n",
              "    }\n",
              "</style>\n",
              "<table border=\"1\" class=\"dataframe\">\n",
              "  <thead>\n",
              "    <tr style=\"text-align: right;\">\n",
              "      <th></th>\n",
              "      <th>id</th>\n",
              "      <th>keyword</th>\n",
              "      <th>location</th>\n",
              "      <th>text</th>\n",
              "      <th>target</th>\n",
              "    </tr>\n",
              "  </thead>\n",
              "  <tbody>\n",
              "    <tr>\n",
              "      <th>0</th>\n",
              "      <td>1</td>\n",
              "      <td>NaN</td>\n",
              "      <td>NaN</td>\n",
              "      <td>Our Deeds are the Reason of this #earthquake M...</td>\n",
              "      <td>1</td>\n",
              "    </tr>\n",
              "    <tr>\n",
              "      <th>1</th>\n",
              "      <td>4</td>\n",
              "      <td>NaN</td>\n",
              "      <td>NaN</td>\n",
              "      <td>Forest fire near La Ronge Sask. Canada</td>\n",
              "      <td>1</td>\n",
              "    </tr>\n",
              "    <tr>\n",
              "      <th>2</th>\n",
              "      <td>5</td>\n",
              "      <td>NaN</td>\n",
              "      <td>NaN</td>\n",
              "      <td>All residents asked to 'shelter in place' are ...</td>\n",
              "      <td>1</td>\n",
              "    </tr>\n",
              "    <tr>\n",
              "      <th>3</th>\n",
              "      <td>6</td>\n",
              "      <td>NaN</td>\n",
              "      <td>NaN</td>\n",
              "      <td>13,000 people receive #wildfires evacuation or...</td>\n",
              "      <td>1</td>\n",
              "    </tr>\n",
              "    <tr>\n",
              "      <th>4</th>\n",
              "      <td>7</td>\n",
              "      <td>NaN</td>\n",
              "      <td>NaN</td>\n",
              "      <td>Just got sent this photo from Ruby #Alaska as ...</td>\n",
              "      <td>1</td>\n",
              "    </tr>\n",
              "  </tbody>\n",
              "</table>\n",
              "</div>"
            ],
            "text/plain": [
              "   id keyword location                                               text  \\\n",
              "0   1     NaN      NaN  Our Deeds are the Reason of this #earthquake M...   \n",
              "1   4     NaN      NaN             Forest fire near La Ronge Sask. Canada   \n",
              "2   5     NaN      NaN  All residents asked to 'shelter in place' are ...   \n",
              "3   6     NaN      NaN  13,000 people receive #wildfires evacuation or...   \n",
              "4   7     NaN      NaN  Just got sent this photo from Ruby #Alaska as ...   \n",
              "\n",
              "   target  \n",
              "0       1  \n",
              "1       1  \n",
              "2       1  \n",
              "3       1  \n",
              "4       1  "
            ]
          },
          "execution_count": 4,
          "metadata": {},
          "output_type": "execute_result"
        }
      ],
      "source": [
        "data.head()"
      ]
    },
    {
      "cell_type": "code",
      "execution_count": 5,
      "metadata": {
        "id": "f49NdWY23HvL"
      },
      "outputs": [],
      "source": [
        "from sklearn.model_selection import train_test_split\n",
        "\n",
        "train, test = train_test_split(data, test_size=0.3, random_state=42)"
      ]
    },
    {
      "attachments": {},
      "cell_type": "markdown",
      "metadata": {
        "id": "YlLemInT3HvL"
      },
      "source": [
        "## Задание 1 (0.5 балла)\n",
        "\n",
        "Выведете на экран информацию о пропусках в данных. Если пропуски присутствуют заполните их пустой строкой."
      ]
    },
    {
      "cell_type": "code",
      "execution_count": 6,
      "metadata": {
        "id": "96aJxmkV4105"
      },
      "outputs": [
        {
          "name": "stdout",
          "output_type": "stream",
          "text": [
            "Пропуски в train:\n"
          ]
        },
        {
          "data": {
            "text/plain": [
              "id             0\n",
              "keyword       44\n",
              "location    1760\n",
              "text           0\n",
              "target         0\n",
              "dtype: int64"
            ]
          },
          "metadata": {},
          "output_type": "display_data"
        }
      ],
      "source": [
        "print('Пропуски в train:')\n",
        "display(train.isna().sum())"
      ]
    },
    {
      "cell_type": "code",
      "execution_count": 7,
      "metadata": {},
      "outputs": [
        {
          "name": "stdout",
          "output_type": "stream",
          "text": [
            "Пропуски в test:\n"
          ]
        },
        {
          "data": {
            "text/plain": [
              "id            0\n",
              "keyword      17\n",
              "location    773\n",
              "text          0\n",
              "target        0\n",
              "dtype: int64"
            ]
          },
          "metadata": {},
          "output_type": "display_data"
        }
      ],
      "source": [
        "print('Пропуски в test:')\n",
        "display(test.isna().sum())"
      ]
    },
    {
      "cell_type": "code",
      "execution_count": 8,
      "metadata": {},
      "outputs": [],
      "source": [
        "# Пропуски есть и там, и там, заполним их:\n",
        "train = train.fillna('')\n",
        "test = test.fillna('')"
      ]
    },
    {
      "cell_type": "code",
      "execution_count": 9,
      "metadata": {},
      "outputs": [
        {
          "name": "stdout",
          "output_type": "stream",
          "text": [
            "Пропуски в train:\n"
          ]
        },
        {
          "data": {
            "text/plain": [
              "id          0\n",
              "keyword     0\n",
              "location    0\n",
              "text        0\n",
              "target      0\n",
              "dtype: int64"
            ]
          },
          "metadata": {},
          "output_type": "display_data"
        }
      ],
      "source": [
        "print('Пропуски в train:')\n",
        "display(train.isna().sum())"
      ]
    },
    {
      "cell_type": "code",
      "execution_count": 10,
      "metadata": {},
      "outputs": [
        {
          "name": "stdout",
          "output_type": "stream",
          "text": [
            "Пропуски в test:\n"
          ]
        },
        {
          "data": {
            "text/plain": [
              "id          0\n",
              "keyword     0\n",
              "location    0\n",
              "text        0\n",
              "target      0\n",
              "dtype: int64"
            ]
          },
          "metadata": {},
          "output_type": "display_data"
        }
      ],
      "source": [
        "print('Пропуски в test:')\n",
        "display(test.isna().sum())"
      ]
    },
    {
      "attachments": {},
      "cell_type": "markdown",
      "metadata": {
        "id": "A8CPBUal3HvL"
      },
      "source": [
        "## Задание 2 (1 балл)\n",
        "Давайте немного посмотрим на наши данные. Визуализируйте (где явно просят) или выведете информацию о следующем:\n",
        "\n",
        "1. Какое распределение классов в обучающей выборке?\n"
      ]
    },
    {
      "cell_type": "code",
      "execution_count": 11,
      "metadata": {
        "id": "WvJ_EU9o5BGm"
      },
      "outputs": [
        {
          "data": {
            "text/plain": [
              "target\n",
              "0    3024\n",
              "1    2305\n",
              "dtype: int64"
            ]
          },
          "metadata": {},
          "output_type": "display_data"
        }
      ],
      "source": [
        "display(train.value_counts('target'))\n"
      ]
    },
    {
      "attachments": {},
      "cell_type": "markdown",
      "metadata": {},
      "source": [
        "* Классы немного не сбалансированны"
      ]
    },
    {
      "attachments": {},
      "cell_type": "markdown",
      "metadata": {
        "id": "f08KScbP5q2y"
      },
      "source": [
        "2. Посмотрите на колонку \"keyword\" - возьмите 10 наиболее встречающихся значений, постройте ступенчатую диаграмму распределения классов в зависимости от значения keyword, сделайте выводы."
      ]
    },
    {
      "cell_type": "code",
      "execution_count": 12,
      "metadata": {
        "id": "WSCb0htu5w_Y"
      },
      "outputs": [
        {
          "data": {
            "text/plain": [
              "['damage',\n",
              " 'siren',\n",
              " 'wreckage',\n",
              " 'fatalities',\n",
              " 'deluge',\n",
              " 'nuclear%20reactor',\n",
              " 'derail',\n",
              " 'emergency',\n",
              " 'fatality',\n",
              " 'fear']"
            ]
          },
          "metadata": {},
          "output_type": "display_data"
        }
      ],
      "source": [
        "# Беру отрезок [1; 11), так как в нулевом индексе там пустые слова\n",
        "popular_keywords = list(train.value_counts('keyword', sort=True)[1:11].index)\n",
        "display(popular_keywords)"
      ]
    },
    {
      "cell_type": "code",
      "execution_count": 13,
      "metadata": {
        "colab": {
          "base_uri": "https://localhost:8080/",
          "height": 372
        },
        "id": "r9wSwm4L9REm",
        "outputId": "3c6827d4-d35f-47ac-c756-6ab4740ed0b9"
      },
      "outputs": [
        {
          "data": {
            "image/png": "[encoded data removed]",
            "text/plain": [
              "<Figure size 2000x1000 with 1 Axes>"
            ]
          },
          "metadata": {},
          "output_type": "display_data"
        }
      ],
      "source": [
        "plt.figure(figsize=(20, 10))\n",
        "sns.histplot(train[train['keyword'].isin(popular_keywords)],\n",
        "             x='keyword', hue='target', multiple='layer', alpha=0.4, edgecolor=None)\n",
        "plt.show()"
      ]
    },
    {
      "attachments": {},
      "cell_type": "markdown",
      "metadata": {
        "id": "l4al3g9E-P09"
      },
      "source": [
        "**Выводы**:\n",
        "* Число твитов о ненастоящей катастрофе больше (оно и ожидаемо, нужно же привлекать к себе внимание на инфоповодах)\n",
        "* Что примечательно, слово wreckage (крушение) появляется только в твитах о реальных катастрофах. Возможно сложно подделать новость о крушении чего-либо (например самолёта), если ты это не можешь прикрепить никакими кадрами. Ну то есть когда пишешь о крушении, то вероятно читатель ожидает получение фотографий этого крушения. Но это сугубо моё мнение\n",
        "* Так же странно, что слово derail встречается поровну и в нормальных твитах, и фейковых"
      ]
    },
    {
      "attachments": {},
      "cell_type": "markdown",
      "metadata": {
        "id": "c006nNBP3HvM"
      },
      "source": [
        "## Задание 3 (0.5 балла) \n",
        "\n",
        "В этом задании предлагается объединить все три текстовых столбца в один (просто сконкатенировать cтроки) и убрать столбец с индексом."
      ]
    },
    {
      "cell_type": "code",
      "execution_count": 14,
      "metadata": {
        "colab": {
          "base_uri": "https://localhost:8080/",
          "height": 143
        },
        "id": "GdF9gFmL-c0r",
        "outputId": "ebe008b7-4d0e-4bc2-89f3-60a575c1b1fd"
      },
      "outputs": [
        {
          "data": {
            "text/html": [
              "<div>\n",
              "<style scoped>\n",
              "    .dataframe tbody tr th:only-of-type {\n",
              "        vertical-align: middle;\n",
              "    }\n",
              "\n",
              "    .dataframe tbody tr th {\n",
              "        vertical-align: top;\n",
              "    }\n",
              "\n",
              "    .dataframe thead th {\n",
              "        text-align: right;\n",
              "    }\n",
              "</style>\n",
              "<table border=\"1\" class=\"dataframe\">\n",
              "  <thead>\n",
              "    <tr style=\"text-align: right;\">\n",
              "      <th></th>\n",
              "      <th>id</th>\n",
              "      <th>keyword</th>\n",
              "      <th>location</th>\n",
              "      <th>text</th>\n",
              "      <th>target</th>\n",
              "    </tr>\n",
              "  </thead>\n",
              "  <tbody>\n",
              "    <tr>\n",
              "      <th>6590</th>\n",
              "      <td>9436</td>\n",
              "      <td>survivors</td>\n",
              "      <td>Marietta, GA</td>\n",
              "      <td>Stemming from my #Cubs talk- the team rosters ...</td>\n",
              "      <td>1</td>\n",
              "    </tr>\n",
              "    <tr>\n",
              "      <th>7122</th>\n",
              "      <td>10203</td>\n",
              "      <td>violent%20storm</td>\n",
              "      <td></td>\n",
              "      <td>If you were the NWS wth a rotating storm w/ a ...</td>\n",
              "      <td>1</td>\n",
              "    </tr>\n",
              "    <tr>\n",
              "      <th>2769</th>\n",
              "      <td>3980</td>\n",
              "      <td>devastation</td>\n",
              "      <td>Atlanta g.a.</td>\n",
              "      <td>http://t.co/Gxgm1T3W0J From Devastation to Ela...</td>\n",
              "      <td>0</td>\n",
              "    </tr>\n",
              "  </tbody>\n",
              "</table>\n",
              "</div>"
            ],
            "text/plain": [
              "         id          keyword      location  \\\n",
              "6590   9436        survivors  Marietta, GA   \n",
              "7122  10203  violent%20storm                 \n",
              "2769   3980      devastation  Atlanta g.a.   \n",
              "\n",
              "                                                   text  target  \n",
              "6590  Stemming from my #Cubs talk- the team rosters ...       1  \n",
              "7122  If you were the NWS wth a rotating storm w/ a ...       1  \n",
              "2769  http://t.co/Gxgm1T3W0J From Devastation to Ela...       0  "
            ]
          },
          "execution_count": 14,
          "metadata": {},
          "output_type": "execute_result"
        }
      ],
      "source": [
        "train.loc[[6590, 7122, 2769]]"
      ]
    },
    {
      "cell_type": "code",
      "execution_count": 15,
      "metadata": {
        "id": "lwwJKX_l-eoh"
      },
      "outputs": [],
      "source": [
        "train_new = train.drop('id', axis=1)\n",
        "test_new = test.drop('id', axis=1)\n",
        "\n",
        "train_new['concated'] = train_new.apply(lambda row: ' '.join(row.values.astype(str)), axis=1)\n",
        "test_new['concated'] = test_new.apply(lambda row: ' '.join(row.values.astype(str)), axis=1)\n",
        "\n",
        "train_new = train_new.drop(['keyword', 'location', 'text'], axis=1)\n",
        "test_new = test_new.drop(['keyword', 'location', 'text'], axis=1)"
      ]
    },
    {
      "cell_type": "code",
      "execution_count": 16,
      "metadata": {
        "colab": {
          "base_uri": "https://localhost:8080/",
          "height": 143
        },
        "id": "jk7P70XX_CpT",
        "outputId": "5cf01b29-8ada-46d7-f7ee-74e7aed37996"
      },
      "outputs": [
        {
          "data": {
            "text/html": [
              "<div>\n",
              "<style scoped>\n",
              "    .dataframe tbody tr th:only-of-type {\n",
              "        vertical-align: middle;\n",
              "    }\n",
              "\n",
              "    .dataframe tbody tr th {\n",
              "        vertical-align: top;\n",
              "    }\n",
              "\n",
              "    .dataframe thead th {\n",
              "        text-align: right;\n",
              "    }\n",
              "</style>\n",
              "<table border=\"1\" class=\"dataframe\">\n",
              "  <thead>\n",
              "    <tr style=\"text-align: right;\">\n",
              "      <th></th>\n",
              "      <th>target</th>\n",
              "      <th>concated</th>\n",
              "    </tr>\n",
              "  </thead>\n",
              "  <tbody>\n",
              "    <tr>\n",
              "      <th>6590</th>\n",
              "      <td>1</td>\n",
              "      <td>survivors Marietta, GA Stemming from my #Cubs ...</td>\n",
              "    </tr>\n",
              "    <tr>\n",
              "      <th>7122</th>\n",
              "      <td>1</td>\n",
              "      <td>violent%20storm  If you were the NWS wth a rot...</td>\n",
              "    </tr>\n",
              "    <tr>\n",
              "      <th>2769</th>\n",
              "      <td>0</td>\n",
              "      <td>devastation Atlanta g.a. http://t.co/Gxgm1T3W0...</td>\n",
              "    </tr>\n",
              "  </tbody>\n",
              "</table>\n",
              "</div>"
            ],
            "text/plain": [
              "      target                                           concated\n",
              "6590       1  survivors Marietta, GA Stemming from my #Cubs ...\n",
              "7122       1  violent%20storm  If you were the NWS wth a rot...\n",
              "2769       0  devastation Atlanta g.a. http://t.co/Gxgm1T3W0..."
            ]
          },
          "execution_count": 16,
          "metadata": {},
          "output_type": "execute_result"
        }
      ],
      "source": [
        "train_new.loc[[6590, 7122, 2769]]"
      ]
    },
    {
      "attachments": {},
      "cell_type": "markdown",
      "metadata": {
        "id": "ViXdGTxP3HvM"
      },
      "source": [
        "## Задание 4 (0.5 балла)\n",
        "\n",
        "Далее мы будем пока работать только с train частью.\n",
        "\n",
        "1. Предобработайте данные (train часть) с помощью CountVectorizer.\n",
        "2. Какого размера получилась матрица?\n"
      ]
    },
    {
      "cell_type": "code",
      "execution_count": 17,
      "metadata": {
        "id": "oB1MTqUVAbPA"
      },
      "outputs": [
        {
          "name": "stdout",
          "output_type": "stream",
          "text": [
            "Размерность матрицы: (5329, 18455)\n"
          ]
        }
      ],
      "source": [
        "from sklearn.feature_extraction.text import CountVectorizer\n",
        "\n",
        "cnt_vec = CountVectorizer()\n",
        "train_vec = cnt_vec.fit_transform(train_new['concated'])\n",
        "print('Размерность матрицы:', train_vec.shape)"
      ]
    },
    {
      "attachments": {},
      "cell_type": "markdown",
      "metadata": {
        "id": "A4waLlnC3HvM"
      },
      "source": [
        "## Задание 5 (1 балл)\n",
        "\n",
        "В предыдущем пункте у вас должна была получиться достаточно большая матрица.\n",
        "Если вы взгляните на текст, то увидете, что там есть множество специальных символов, ссылок и прочего мусора.\n",
        "\n",
        "Давайте также посмотрим на словарь, который получился в результате построения CountVectorizer, его можно найти в поле vocabulary_ инстанса этого класса. Давайте напишем функцию, которая печает ответы на следующие вопросы:\n",
        "\n",
        "1. Найдите в этом словаре все слова, которые содержат цифры. Сколько таких слов нашлось?\n",
        "\n",
        "2. Найдите все слова, которые содержат символы пунктуации. Сколько таких слов нашлось? \n",
        "\n",
        "3. Сколько хэштегов (токен начинается на #) и упоминаний (токен начинается на @) осталось в словаре?"
      ]
    },
    {
      "cell_type": "code",
      "execution_count": 18,
      "metadata": {},
      "outputs": [],
      "source": [
        "import re"
      ]
    },
    {
      "cell_type": "code",
      "execution_count": 19,
      "metadata": {
        "id": "7PhQSWqcHhU8"
      },
      "outputs": [],
      "source": [
        "def contains_digit(s: str) -> bool:\n",
        "    # Проверка, содержит ли слово цифры\n",
        "    return bool(re.search(r'\\d', s))\n",
        "\n",
        "def contains_punctuation(s: str) -> bool:\n",
        "    # Проверка, содержит ли слово пунктуацию\n",
        "    return any(char in punctuation for char in s)\n",
        "\n",
        "def is_hashtag(s: str) -> bool:\n",
        "    # Проверка, является ли слово хэштегом\n",
        "    return s.startswith('#')\n",
        "\n",
        "def is_mention(s: str) -> bool:\n",
        "    # Проверка, является ли слово упоминанием\n",
        "    return s.startswith('@')\n",
        "\n",
        "\n",
        "def investigate_vocabulary(vocabulary):\n",
        "    with_digits = 0\n",
        "    with_punctuation = 0\n",
        "    with_hashtag = 0\n",
        "    with_mention = 0\n",
        "    for word in vocabulary.keys():\n",
        "        if contains_digit(word):\n",
        "            with_digits += 1\n",
        "        if contains_punctuation(word):\n",
        "            with_punctuation += 1\n",
        "        if is_hashtag(word):\n",
        "            with_hashtag += 1\n",
        "        if is_mention(word):\n",
        "            with_mention += 1\n",
        "\n",
        "    print('With digit:      ', with_digits)\n",
        "    print('With punctuation:', with_punctuation)\n",
        "    print('Hashtags:        ', with_hashtag)\n",
        "    print('Mentions:        ', with_mention)\n",
        "\n",
        "\n"
      ]
    },
    {
      "cell_type": "code",
      "execution_count": 20,
      "metadata": {
        "colab": {
          "base_uri": "https://localhost:8080/"
        },
        "id": "s8hL5ZcQIdp6",
        "outputId": "c8b50455-38f2-455d-c9f6-96b03a7e09ce"
      },
      "outputs": [
        {
          "name": "stdout",
          "output_type": "stream",
          "text": [
            "With digit:       2\n",
            "With punctuation: 7\n",
            "Hashtags:         1\n",
            "Mentions:         3\n"
          ]
        }
      ],
      "source": [
        "dummy_vocab = {'th1nk' : 0,\n",
        "               'think333' : 1,\n",
        "               'think.' : 2,\n",
        "               'th!nk' : 3,\n",
        "               'th...nk' : 4,\n",
        "               '#think' : 5,\n",
        "               '@think' : 6,\n",
        "               '@thinking':7,\n",
        "               '@nothink' : 8,\n",
        "               'think' : 9}\n",
        "investigate_vocabulary(dummy_vocab)"
      ]
    },
    {
      "cell_type": "code",
      "execution_count": 21,
      "metadata": {
        "id": "VpW8R_SuKR_l"
      },
      "outputs": [
        {
          "name": "stdout",
          "output_type": "stream",
          "text": [
            "With digit:       3812\n",
            "With punctuation: 315\n",
            "Hashtags:         0\n",
            "Mentions:         0\n"
          ]
        }
      ],
      "source": [
        "investigate_vocabulary(cnt_vec.vocabulary_)"
      ]
    },
    {
      "attachments": {},
      "cell_type": "markdown",
      "metadata": {
        "id": "bfNLaxX93HvM"
      },
      "source": [
        "## Задание 6 (0.5 балла)\n",
        "\n",
        "Вспомним, что на семинаре по текстам мы узнали, что в nltk есть специальный токенизатор для текстов - TweetTokenizer. Попробуем применить CountVectorizer с этим токенизатором. Ответьте на все вопросы из предыдущего пункта для TweetTokenizer и сравните результаты."
      ]
    },
    {
      "cell_type": "code",
      "execution_count": 22,
      "metadata": {
        "id": "xnlRoXUS3HvM"
      },
      "outputs": [
        {
          "name": "stdout",
          "output_type": "stream",
          "text": [
            "Help on class TweetTokenizer in module nltk.tokenize.casual:\n",
            "\n",
            "class TweetTokenizer(nltk.tokenize.api.TokenizerI)\n",
            " |  TweetTokenizer(preserve_case=True, reduce_len=False, strip_handles=False, match_phone_numbers=True)\n",
            " |  \n",
            " |  Tokenizer for tweets.\n",
            " |  \n",
            " |      >>> from nltk.tokenize import TweetTokenizer\n",
            " |      >>> tknzr = TweetTokenizer()\n",
            " |      >>> s0 = \"This is a cooool #dummysmiley: :-) :-P <3 and some arrows < > -> <--\"\n",
            " |      >>> tknzr.tokenize(s0) # doctest: +NORMALIZE_WHITESPACE\n",
            " |      ['This', 'is', 'a', 'cooool', '#dummysmiley', ':', ':-)', ':-P', '<3', 'and', 'some', 'arrows', '<', '>', '->',\n",
            " |       '<--']\n",
            " |  \n",
            " |  Examples using `strip_handles` and `reduce_len parameters`:\n",
            " |  \n",
            " |      >>> tknzr = TweetTokenizer(strip_handles=True, reduce_len=True)\n",
            " |      >>> s1 = '@remy: This is waaaaayyyy too much for you!!!!!!'\n",
            " |      >>> tknzr.tokenize(s1)\n",
            " |      [':', 'This', 'is', 'waaayyy', 'too', 'much', 'for', 'you', '!', '!', '!']\n",
            " |  \n",
            " |  Method resolution order:\n",
            " |      TweetTokenizer\n",
            " |      nltk.tokenize.api.TokenizerI\n",
            " |      abc.ABC\n",
            " |      builtins.object\n",
            " |  \n",
            " |  Methods defined here:\n",
            " |  \n",
            " |  __init__(self, preserve_case=True, reduce_len=False, strip_handles=False, match_phone_numbers=True)\n",
            " |      Create a `TweetTokenizer` instance with settings for use in the `tokenize` method.\n",
            " |      \n",
            " |      :param preserve_case: Flag indicating whether to preserve the casing (capitalisation)\n",
            " |          of text used in the `tokenize` method. Defaults to True.\n",
            " |      :type preserve_case: bool\n",
            " |      :param reduce_len: Flag indicating whether to replace repeated character sequences\n",
            " |          of length 3 or greater with sequences of length 3. Defaults to False.\n",
            " |      :type reduce_len: bool\n",
            " |      :param strip_handles: Flag indicating whether to remove Twitter handles of text used\n",
            " |          in the `tokenize` method. Defaults to False.\n",
            " |      :type strip_handles: bool\n",
            " |      :param match_phone_numbers: Flag indicating whether the `tokenize` method should look\n",
            " |          for phone numbers. Defaults to True.\n",
            " |      :type match_phone_numbers: bool\n",
            " |  \n",
            " |  tokenize(self, text: str) -> List[str]\n",
            " |      Tokenize the input text.\n",
            " |      \n",
            " |      :param text: str\n",
            " |      :rtype: list(str)\n",
            " |      :return: a tokenized list of strings; joining this list returns        the original string if `preserve_case=False`.\n",
            " |  \n",
            " |  ----------------------------------------------------------------------\n",
            " |  Readonly properties defined here:\n",
            " |  \n",
            " |  PHONE_WORD_RE\n",
            " |      Secondary core TweetTokenizer regex\n",
            " |  \n",
            " |  WORD_RE\n",
            " |      Core TweetTokenizer regex\n",
            " |  \n",
            " |  ----------------------------------------------------------------------\n",
            " |  Data and other attributes defined here:\n",
            " |  \n",
            " |  __abstractmethods__ = frozenset()\n",
            " |  \n",
            " |  ----------------------------------------------------------------------\n",
            " |  Methods inherited from nltk.tokenize.api.TokenizerI:\n",
            " |  \n",
            " |  span_tokenize(self, s: str) -> Iterator[Tuple[int, int]]\n",
            " |      Identify the tokens using integer offsets ``(start_i, end_i)``,\n",
            " |      where ``s[start_i:end_i]`` is the corresponding token.\n",
            " |      \n",
            " |      :rtype: Iterator[Tuple[int, int]]\n",
            " |  \n",
            " |  span_tokenize_sents(self, strings: List[str]) -> Iterator[List[Tuple[int, int]]]\n",
            " |      Apply ``self.span_tokenize()`` to each element of ``strings``.  I.e.:\n",
            " |      \n",
            " |          return [self.span_tokenize(s) for s in strings]\n",
            " |      \n",
            " |      :yield: List[Tuple[int, int]]\n",
            " |  \n",
            " |  tokenize_sents(self, strings: List[str]) -> List[List[str]]\n",
            " |      Apply ``self.tokenize()`` to each element of ``strings``.  I.e.:\n",
            " |      \n",
            " |          return [self.tokenize(s) for s in strings]\n",
            " |      \n",
            " |      :rtype: List[List[str]]\n",
            " |  \n",
            " |  ----------------------------------------------------------------------\n",
            " |  Data descriptors inherited from nltk.tokenize.api.TokenizerI:\n",
            " |  \n",
            " |  __dict__\n",
            " |      dictionary for instance variables (if defined)\n",
            " |  \n",
            " |  __weakref__\n",
            " |      list of weak references to the object (if defined)\n",
            "\n"
          ]
        }
      ],
      "source": [
        "from nltk.tokenize import TweetTokenizer\n",
        "help(TweetTokenizer)"
      ]
    },
    {
      "cell_type": "code",
      "execution_count": 23,
      "metadata": {
        "id": "8lPMIf6UKccT"
      },
      "outputs": [],
      "source": [
        "twt_tkn = TweetTokenizer()\n",
        "cnt_vec_twt = CountVectorizer(tokenizer=twt_tkn.tokenize)\n",
        "train_vec = cnt_vec_twt.fit_transform(train_new['concated'])"
      ]
    },
    {
      "cell_type": "code",
      "execution_count": 24,
      "metadata": {
        "id": "7oR5kNKVLLpm"
      },
      "outputs": [
        {
          "name": "stdout",
          "output_type": "stream",
          "text": [
            "With digit:       3939\n",
            "With punctuation: 7338\n",
            "Hashtags:         1470\n",
            "Mentions:         1679\n"
          ]
        }
      ],
      "source": [
        "investigate_vocabulary(cnt_vec_twt.vocabulary_)"
      ]
    },
    {
      "attachments": {},
      "cell_type": "markdown",
      "metadata": {
        "id": "Wetr80-ILULV"
      },
      "source": [
        "**Сравнение:** \n",
        "* Токенайзер стал пропускать гораздо больше слов с символами пунктуации в самом слове\n",
        "* Также токенайзер не разбивает слова при встрече специальных символов в твиттере (хэштега и упоминания)"
      ]
    },
    {
      "attachments": {},
      "cell_type": "markdown",
      "metadata": {
        "id": "6_k_-i1x3HvM"
      },
      "source": [
        "## Задание 7 (2 балла)\n",
        "\n",
        "В scikit-learn мы можем оценивать процесс подсчета матрицы через CountVectorizer. У CountVectorizer, как и у других наследников \\_VectorizerMixin, есть аргумент tokenizer и preprocessor. preprocessor применится в самом начале к каждой строке вашего датасета, tokenizer же должен принять строку и вернуть токены.\n",
        "Давайте напишем кастомный токенайзер, которые сделает все, что нам нужно: \n",
        "\n",
        "0. Приведет все буквы к нижнему регистру\n",
        "1. Разобьет текст на токены с помощью TweetTokenizer из пакета nltk\n",
        "2. Удалит все токены содержащие не латинские буквы, кроме смайликов (будем считать ими токены содержащие только пунктуацию и, как минимум, одну скобочку) и хэштегов, которые после начальной # содержат только латинские буквы.\n",
        "3. Удалит все токены, которые перечислены в nltk.corpus.stopwords.words('english')\n",
        "4. Проведет стемминг с помощью SnowballStemmer\n",
        "\n"
      ]
    },
    {
      "cell_type": "code",
      "execution_count": 25,
      "metadata": {},
      "outputs": [],
      "source": [
        "from nltk.stem.snowball import SnowballStemmer\n",
        "from string import ascii_letters\n",
        "import nltk\n",
        "# nltk.download('stopwords')"
      ]
    },
    {
      "cell_type": "code",
      "execution_count": 26,
      "metadata": {
        "id": "qhwmi7DEMD25"
      },
      "outputs": [],
      "source": [
        "brackets = '{([])}'\n",
        "smiling_symbols = punctuation + brackets\n",
        "stemm = SnowballStemmer('english')\n",
        "tweet_tkn = TweetTokenizer()\n",
        "\n",
        "def contains_only_latin_letters(s: str) -> bool:\n",
        "    # Проверка, содержит ли слово только латинские буквы\n",
        "    return all(char in ascii_letters for char in s)\n",
        "\n",
        "\n",
        "def is_emoji(s: str) -> bool:\n",
        "    # Проверка, является ли слово смайликом\n",
        "    return all(char in smiling_symbols for char in s) and any(char in brackets for char in s)\n",
        "\n",
        "\n",
        "def is_hashtag(s: str) -> bool:\n",
        "    # Проверка, является ли слово хэштегом\n",
        "    return s.startswith('#') and s.count('#') == 1\n",
        "\n",
        "\n",
        "def custom_tokenizer(s: str) -> List[str]:\n",
        "    s = s.lower()\n",
        "    bad_tokens = tweet_tkn.tokenize(s)\n",
        "    result_tokens = []\n",
        "    for token in bad_tokens:\n",
        "        if (is_emoji(token) or is_hashtag(token) or contains_only_latin_letters(token)) and token not in nltk.corpus.stopwords.words('english'):\n",
        "            result_tokens.append(stemm.stem(token))\n",
        "    return result_tokens"
      ]
    },
    {
      "cell_type": "code",
      "execution_count": 27,
      "metadata": {
        "colab": {
          "base_uri": "https://localhost:8080/"
        },
        "id": "vYzPZzf8O6vj",
        "outputId": "b1107f8a-eef7-49f7-8ed3-910be791d645"
      },
      "outputs": [
        {
          "data": {
            "text/plain": [
              "['love', 'paint', ':-)', '#art']"
            ]
          },
          "execution_count": 27,
          "metadata": {},
          "output_type": "execute_result"
        }
      ],
      "source": [
        "custom_tokenizer('She LOVES painting :-) #art')"
      ]
    },
    {
      "attachments": {},
      "cell_type": "markdown",
      "metadata": {
        "id": "2S_-ThAf5It4"
      },
      "source": [
        "Продемонстрируйте работу вашей функции на первых десяти текстах в обучающей выборке."
      ]
    },
    {
      "cell_type": "code",
      "execution_count": 28,
      "metadata": {
        "id": "A1fh3_itPz7D"
      },
      "outputs": [
        {
          "data": {
            "text/plain": [
              "1186    [bridg, ash, australia, collaps, trent, bridg,...\n",
              "4071    [hail, carol, stream, illinoi, great, michigan...\n",
              "5461    [polic, houston, cnn, tennesse, movi, theater,...\n",
              "5787        [riot, still, riot, coupl, hour, left, class]\n",
              "7445    [wound, lake, highland, crack, path, wipe, mor...\n",
              "151     [airplan, somewher, expert, franc, begin, exam...\n",
              "915     [bloodi, isol, citi, world, perth, came, kill,...\n",
              "1305                    [burn, except, idk, realli, burn]\n",
              "2570                  [destroy, (, ask, ), destroy, hous]\n",
              "7399    [wound, maracay, nirgua, venezuela, polic, off...\n",
              "Name: concated, dtype: object"
            ]
          },
          "metadata": {},
          "output_type": "display_data"
        }
      ],
      "source": [
        "display(train_new['concated'].head(10).apply(custom_tokenizer))"
      ]
    },
    {
      "attachments": {},
      "cell_type": "markdown",
      "metadata": {
        "id": "a5lNZ4tb3HvN"
      },
      "source": [
        "## Задание 8 (1 балл)\n",
        "\n",
        "1. Примените CountVectorizer с реализованным выше токенизатором к обучающим и тестовым выборкам.\n"
      ]
    },
    {
      "cell_type": "code",
      "execution_count": 29,
      "metadata": {
        "id": "LDqixz7QQEbn"
      },
      "outputs": [],
      "source": [
        "vectorizer = CountVectorizer(tokenizer=custom_tokenizer)\n",
        "train_vec = vectorizer.fit_transform(train_new['concated'])\n",
        "test_vec = vectorizer.transform(test_new['concated'])"
      ]
    },
    {
      "attachments": {},
      "cell_type": "markdown",
      "metadata": {
        "id": "YcetwuEi5ds9"
      },
      "source": [
        "2. Обучите LogisticRegression на полученных признаках.\n"
      ]
    },
    {
      "cell_type": "code",
      "execution_count": 30,
      "metadata": {
        "id": "BVj03QV2QbWl"
      },
      "outputs": [
        {
          "data": {
            "text/html": [
              "<style>#sk-container-id-1 {color: black;background-color: white;}#sk-container-id-1 pre{padding: 0;}#sk-container-id-1 div.sk-toggleable {background-color: white;}#sk-container-id-1 label.sk-toggleable__label {cursor: pointer;display: block;width: 100%;margin-bottom: 0;padding: 0.3em;box-sizing: border-box;text-align: center;}#sk-container-id-1 label.sk-toggleable__label-arrow:before {content: \"▸\";float: left;margin-right: 0.25em;color: #696969;}#sk-container-id-1 label.sk-toggleable__label-arrow:hover:before {color: black;}#sk-container-id-1 div.sk-estimator:hover label.sk-toggleable__label-arrow:before {color: black;}#sk-container-id-1 div.sk-toggleable__content {max-height: 0;max-width: 0;overflow: hidden;text-align: left;background-color: #f0f8ff;}#sk-container-id-1 div.sk-toggleable__content pre {margin: 0.2em;color: black;border-radius: 0.25em;background-color: #f0f8ff;}#sk-container-id-1 input.sk-toggleable__control:checked~div.sk-toggleable__content {max-height: 200px;max-width: 100%;overflow: auto;}#sk-container-id-1 input.sk-toggleable__control:checked~label.sk-toggleable__label-arrow:before {content: \"▾\";}#sk-container-id-1 div.sk-estimator input.sk-toggleable__control:checked~label.sk-toggleable__label {background-color: #d4ebff;}#sk-container-id-1 div.sk-label input.sk-toggleable__control:checked~label.sk-toggleable__label {background-color: #d4ebff;}#sk-container-id-1 input.sk-hidden--visually {border: 0;clip: rect(1px 1px 1px 1px);clip: rect(1px, 1px, 1px, 1px);height: 1px;margin: -1px;overflow: hidden;padding: 0;position: absolute;width: 1px;}#sk-container-id-1 div.sk-estimator {font-family: monospace;background-color: #f0f8ff;border: 1px dotted black;border-radius: 0.25em;box-sizing: border-box;margin-bottom: 0.5em;}#sk-container-id-1 div.sk-estimator:hover {background-color: #d4ebff;}#sk-container-id-1 div.sk-parallel-item::after {content: \"\";width: 100%;border-bottom: 1px solid gray;flex-grow: 1;}#sk-container-id-1 div.sk-label:hover label.sk-toggleable__label {background-color: #d4ebff;}#sk-container-id-1 div.sk-serial::before {content: \"\";position: absolute;border-left: 1px solid gray;box-sizing: border-box;top: 0;bottom: 0;left: 50%;z-index: 0;}#sk-container-id-1 div.sk-serial {display: flex;flex-direction: column;align-items: center;background-color: white;padding-right: 0.2em;padding-left: 0.2em;position: relative;}#sk-container-id-1 div.sk-item {position: relative;z-index: 1;}#sk-container-id-1 div.sk-parallel {display: flex;align-items: stretch;justify-content: center;background-color: white;position: relative;}#sk-container-id-1 div.sk-item::before, #sk-container-id-1 div.sk-parallel-item::before {content: \"\";position: absolute;border-left: 1px solid gray;box-sizing: border-box;top: 0;bottom: 0;left: 50%;z-index: -1;}#sk-container-id-1 div.sk-parallel-item {display: flex;flex-direction: column;z-index: 1;position: relative;background-color: white;}#sk-container-id-1 div.sk-parallel-item:first-child::after {align-self: flex-end;width: 50%;}#sk-container-id-1 div.sk-parallel-item:last-child::after {align-self: flex-start;width: 50%;}#sk-container-id-1 div.sk-parallel-item:only-child::after {width: 0;}#sk-container-id-1 div.sk-dashed-wrapped {border: 1px dashed gray;margin: 0 0.4em 0.5em 0.4em;box-sizing: border-box;padding-bottom: 0.4em;background-color: white;}#sk-container-id-1 div.sk-label label {font-family: monospace;font-weight: bold;display: inline-block;line-height: 1.2em;}#sk-container-id-1 div.sk-label-container {text-align: center;}#sk-container-id-1 div.sk-container {/* jupyter's `normalize.less` sets `[hidden] { display: none; }` but bootstrap.min.css set `[hidden] { display: none !important; }` so we also need the `!important` here to be able to override the default hidden behavior on the sphinx rendered scikit-learn.org. See: https://github.com/scikit-learn/scikit-learn/issues/21755 */display: inline-block !important;position: relative;}#sk-container-id-1 div.sk-text-repr-fallback {display: none;}</style><div id=\"sk-container-id-1\" class=\"sk-top-container\"><div class=\"sk-text-repr-fallback\"><pre>LogisticRegression()</pre><b>In a Jupyter environment, please rerun this cell to show the HTML representation or trust the notebook. <br />On GitHub, the HTML representation is unable to render, please try loading this page with nbviewer.org.</b></div><div class=\"sk-container\" hidden><div class=\"sk-item\"><div class=\"sk-estimator sk-toggleable\"><input class=\"sk-toggleable__control sk-hidden--visually\" id=\"sk-estimator-id-1\" type=\"checkbox\" checked><label for=\"sk-estimator-id-1\" class=\"sk-toggleable__label sk-toggleable__label-arrow\">LogisticRegression</label><div class=\"sk-toggleable__content\"><pre>LogisticRegression()</pre></div></div></div></div></div>"
            ],
            "text/plain": [
              "LogisticRegression()"
            ]
          },
          "execution_count": 30,
          "metadata": {},
          "output_type": "execute_result"
        }
      ],
      "source": [
        "from sklearn.linear_model import LogisticRegression\n",
        "lr = LogisticRegression()\n",
        "lr.fit(train_vec.toarray(), train_new['target'])"
      ]
    },
    {
      "attachments": {},
      "cell_type": "markdown",
      "metadata": {
        "id": "6Ch6uz2P5e-T"
      },
      "source": [
        "3. Посчитайте метрику f1-score на тестовых данных."
      ]
    },
    {
      "cell_type": "code",
      "execution_count": 31,
      "metadata": {
        "colab": {
          "base_uri": "https://localhost:8080/"
        },
        "id": "osyC0pdT3cSD",
        "outputId": "cd957d5f-5118-4b7f-d7ba-01bb5a524086"
      },
      "outputs": [
        {
          "name": "stdout",
          "output_type": "stream",
          "text": [
            "              precision    recall  f1-score   support\n",
            "\n",
            "           0       0.81      0.85      0.83      1318\n",
            "           1       0.78      0.72      0.75       966\n",
            "\n",
            "    accuracy                           0.80      2284\n",
            "   macro avg       0.80      0.79      0.79      2284\n",
            "weighted avg       0.80      0.80      0.80      2284\n",
            "\n",
            "\n",
            "F1 score: 0.752017213555675\n"
          ]
        }
      ],
      "source": [
        "from sklearn.metrics import f1_score\n",
        "from sklearn.metrics import classification_report\n",
        "\n",
        "y_pred = lr.predict(test_vec.toarray())\n",
        "\n",
        "\n",
        "print(classification_report(y_true=test_new['target'], y_pred=y_pred))\n",
        "print()\n",
        "print('F1 score:', f1_score(y_true=test_new['target'], y_pred=y_pred))"
      ]
    },
    {
      "attachments": {},
      "cell_type": "markdown",
      "metadata": {
        "id": "aFIEYOMZ3HvN"
      },
      "source": [
        "## Задание 9 (1 балл)\n",
        "\n",
        "1. Повторите 8 задание, но с tf-idf векторизатором. Как изменилось качество?\n"
      ]
    },
    {
      "cell_type": "code",
      "execution_count": 32,
      "metadata": {
        "colab": {
          "base_uri": "https://localhost:8080/"
        },
        "id": "cDqs61hl3ve3",
        "outputId": "fdd72125-dfde-4183-d614-3b0bc9002ada"
      },
      "outputs": [
        {
          "name": "stdout",
          "output_type": "stream",
          "text": [
            "              precision    recall  f1-score   support\n",
            "\n",
            "           0       0.79      0.87      0.83      1318\n",
            "           1       0.80      0.69      0.74       966\n",
            "\n",
            "    accuracy                           0.80      2284\n",
            "   macro avg       0.80      0.78      0.79      2284\n",
            "weighted avg       0.80      0.80      0.79      2284\n",
            "\n",
            "\n",
            "F1 score: 0.7419354838709677\n"
          ]
        }
      ],
      "source": [
        "from sklearn.feature_extraction.text import TfidfVectorizer\n",
        "\n",
        "# 1\n",
        "vectorizer = TfidfVectorizer(tokenizer=custom_tokenizer)\n",
        "train_vec_tf = vectorizer.fit_transform(train_new['concated'])\n",
        "test_vec_tf = vectorizer.transform(test_new['concated'])\n",
        "\n",
        "lr = LogisticRegression()\n",
        "lr.fit(train_vec_tf.toarray(), train_new['target'])\n",
        "\n",
        "y_pred = lr.predict(test_vec_tf.toarray())\n",
        "\n",
        "\n",
        "print(classification_report(y_true=test_new['target'], y_pred=y_pred))\n",
        "print()\n",
        "print('F1 score:', f1_score(y_true=test_new['target'], y_pred=y_pred))\n"
      ]
    },
    {
      "attachments": {},
      "cell_type": "markdown",
      "metadata": {
        "id": "SXaNclTZSFjO"
      },
      "source": [
        "1. **Ответ:** качество практически не изменилось"
      ]
    },
    {
      "attachments": {},
      "cell_type": "markdown",
      "metadata": {
        "id": "CPtk0lCA5POY"
      },
      "source": [
        "2. Мы можем еще сильнее уменьшить размер нашей матрицы, если отбросим значения df близкие к единице. Скорее всего такие слова не несут много информации о категории, так как встречаются достаточно часто. Ограничьте максимальный df в параметрах TfIdfVectorizer, поставьте верхнюю границу равную 0.9. Как изменился размер матрицы, как изменилось качество?\n"
      ]
    },
    {
      "cell_type": "code",
      "execution_count": 33,
      "metadata": {
        "colab": {
          "base_uri": "https://localhost:8080/"
        },
        "id": "EU-MRXyRSHLm",
        "outputId": "6b5353a8-5f3b-4220-fcd4-64eecfe20054"
      },
      "outputs": [
        {
          "name": "stdout",
          "output_type": "stream",
          "text": [
            "              precision    recall  f1-score   support\n",
            "\n",
            "           0       0.79      0.87      0.83      1318\n",
            "           1       0.80      0.69      0.74       966\n",
            "\n",
            "    accuracy                           0.80      2284\n",
            "   macro avg       0.80      0.78      0.79      2284\n",
            "weighted avg       0.80      0.80      0.79      2284\n",
            "\n",
            "\n",
            "F1 score: 0.7419354838709677\n"
          ]
        }
      ],
      "source": [
        "# 2\n",
        "vectorizer = TfidfVectorizer(tokenizer=custom_tokenizer, max_df=0.9)\n",
        "train_vec_tf = vectorizer.fit_transform(train_new['concated'])\n",
        "test_vec_tf = vectorizer.transform(test_new['concated'])\n",
        "\n",
        "lr = LogisticRegression()\n",
        "lr.fit(train_vec_tf.toarray(), train_new['target'])\n",
        "\n",
        "y_pred = lr.predict(test_vec_tf.toarray())\n",
        "\n",
        "\n",
        "print(classification_report(y_true=test_new['target'], y_pred=y_pred))\n",
        "print()\n",
        "print('F1 score:', f1_score(y_true=test_new['target'], y_pred=y_pred))\n"
      ]
    },
    {
      "cell_type": "code",
      "execution_count": 34,
      "metadata": {
        "id": "z1TkO9HeSTJ9"
      },
      "outputs": [
        {
          "name": "stdout",
          "output_type": "stream",
          "text": [
            "(5329, 10610)\n",
            "(5329, 10610)\n"
          ]
        }
      ],
      "source": [
        "print(train_vec.shape)\n",
        "print(train_vec_tf.shape)"
      ]
    },
    {
      "attachments": {},
      "cell_type": "markdown",
      "metadata": {
        "id": "4Two_O3rSVmh"
      },
      "source": [
        "2. **Ответ:** качество вообще не поменялось, и размер тоже => нет слов, которые так часто встречаются"
      ]
    },
    {
      "attachments": {},
      "cell_type": "markdown",
      "metadata": {
        "id": "VhyjbI5X5QnG"
      },
      "source": [
        "3. Также мы можем уменьшить размер матрицы, удаляя слова со слишком маленьким df. Удалось ли добиться улучшения качества? "
      ]
    },
    {
      "cell_type": "code",
      "execution_count": 35,
      "metadata": {
        "colab": {
          "base_uri": "https://localhost:8080/"
        },
        "id": "9mNpIxv6SfKc",
        "outputId": "607ec22e-1fdb-4c29-bbc4-6447ed266349"
      },
      "outputs": [
        {
          "name": "stdout",
          "output_type": "stream",
          "text": [
            "              precision    recall  f1-score   support\n",
            "\n",
            "           0       0.80      0.88      0.83      1318\n",
            "           1       0.81      0.69      0.75       966\n",
            "\n",
            "    accuracy                           0.80      2284\n",
            "   macro avg       0.80      0.79      0.79      2284\n",
            "weighted avg       0.80      0.80      0.80      2284\n",
            "\n",
            "\n",
            "F1 score: 0.745969983324069\n"
          ]
        }
      ],
      "source": [
        "# 3\n",
        "vectorizer = TfidfVectorizer(tokenizer=custom_tokenizer, max_df=0.9, min_df=0.0003)\n",
        "train_vec_tf = vectorizer.fit_transform(train_new['concated'])\n",
        "test_vec_tf = vectorizer.transform(test_new['concated'])\n",
        "\n",
        "lr = LogisticRegression()\n",
        "lr.fit(train_vec_tf.toarray(), train_new['target'])\n",
        "\n",
        "y_pred = lr.predict(test_vec_tf.toarray())\n",
        "\n",
        "\n",
        "print(classification_report(y_true=test_new['target'], y_pred=y_pred))\n",
        "print()\n",
        "print('F1 score:', f1_score(y_true=test_new['target'], y_pred=y_pred))\n"
      ]
    },
    {
      "cell_type": "code",
      "execution_count": 36,
      "metadata": {},
      "outputs": [
        {
          "name": "stdout",
          "output_type": "stream",
          "text": [
            "(5329, 10610)\n",
            "(5329, 4538)\n"
          ]
        }
      ],
      "source": [
        "print(train_vec.shape)\n",
        "print(train_vec_tf.shape)"
      ]
    },
    {
      "attachments": {},
      "cell_type": "markdown",
      "metadata": {
        "id": "imeD8skxSqdg"
      },
      "source": [
        "3. **Ответ:** совсем немного подняли f1-меру, сократили количество слов"
      ]
    },
    {
      "attachments": {},
      "cell_type": "markdown",
      "metadata": {
        "id": "1l1sx4nB3HvN"
      },
      "source": [
        "## Задание 10 (1 балл)\n",
        "\n",
        "Еще один популяпный трюк, который позволит уменьшить количество признаков называется hashing trick. Его суть в том, то мы случайно группируем признаки ииии  ..... складываем их! А потом удаляем исходные признаки. В итоге все наши признаки это просто суммы исходных. Звучит странно, но это отлично работает. Давайте проверим этот трюк в нашем сеттинге.\n",
        "Также при таком подходе вам не нужно хранить словарь token->index, что тоже иногда полезно.\n",
        "\n",
        "1. Повторите задание 8 с HashingVectorizer, укажите количество фичей равное 5000.\n"
      ]
    },
    {
      "cell_type": "code",
      "execution_count": 37,
      "metadata": {
        "colab": {
          "base_uri": "https://localhost:8080/"
        },
        "id": "8qSoW894RXxz",
        "outputId": "720818f4-f774-4273-bb10-918ecc72ef44"
      },
      "outputs": [
        {
          "name": "stdout",
          "output_type": "stream",
          "text": [
            "              precision    recall  f1-score   support\n",
            "\n",
            "           0       0.78      0.86      0.82      1318\n",
            "           1       0.78      0.67      0.72       966\n",
            "\n",
            "    accuracy                           0.78      2284\n",
            "   macro avg       0.78      0.76      0.77      2284\n",
            "weighted avg       0.78      0.78      0.78      2284\n",
            "\n",
            "\n",
            "F1 score: 0.7183491355270497\n"
          ]
        }
      ],
      "source": [
        "from sklearn.feature_extraction.text import HashingVectorizer\n",
        "\n",
        "vectorizer = HashingVectorizer(tokenizer=custom_tokenizer, n_features=5000)\n",
        "train_vec_hash = vectorizer.fit_transform(train_new['concated'])\n",
        "test_vec_hash = vectorizer.transform(test_new['concated'])\n",
        "\n",
        "lr = LogisticRegression()\n",
        "lr.fit(train_vec_hash.toarray(), train_new['target'])\n",
        "\n",
        "y_pred = lr.predict(test_vec_hash.toarray())\n",
        "\n",
        "\n",
        "print(classification_report(y_true=test_new['target'], y_pred=y_pred))\n",
        "print()\n",
        "print('F1 score:', f1_score(y_true=test_new['target'], y_pred=y_pred))"
      ]
    },
    {
      "attachments": {},
      "cell_type": "markdown",
      "metadata": {
        "id": "1C3I4ceg6AG-"
      },
      "source": [
        "2. Какой из подходов показал самый высокий результат?"
      ]
    },
    {
      "attachments": {},
      "cell_type": "markdown",
      "metadata": {
        "id": "_bIfyVlOS9Lu"
      },
      "source": [
        "1. **Ответ:** hashing trick оказался так себе. Наилушим оказался с одной стороны CountVectoraizer, но в tf-idf можно сократить количество слов."
      ]
    },
    {
      "attachments": {},
      "cell_type": "markdown",
      "metadata": {
        "id": "zylJ6l0R3HvN"
      },
      "source": [
        "## Задание 11 (1 балл)\n",
        "\n",
        "В этом задании нужно добиться f1 меры хотя в 0.75 на тестовых данных."
      ]
    },
    {
      "cell_type": "code",
      "execution_count": 38,
      "metadata": {
        "id": "GSTVApFeS-OY"
      },
      "outputs": [
        {
          "name": "stdout",
          "output_type": "stream",
          "text": [
            "              precision    recall  f1-score   support\n",
            "\n",
            "           0       0.80      0.88      0.83      1318\n",
            "           1       0.80      0.69      0.75       966\n",
            "\n",
            "    accuracy                           0.80      2284\n",
            "   macro avg       0.80      0.79      0.79      2284\n",
            "weighted avg       0.80      0.80      0.80      2284\n",
            "\n",
            "\n",
            "F1 score: 0.7455555555555555\n",
            "\n",
            "\n",
            "\n",
            "              precision    recall  f1-score   support\n",
            "\n",
            "           0       0.81      0.85      0.83      1318\n",
            "           1       0.78      0.72      0.75       966\n",
            "\n",
            "    accuracy                           0.80      2284\n",
            "   macro avg       0.80      0.79      0.79      2284\n",
            "weighted avg       0.80      0.80      0.80      2284\n",
            "\n",
            "\n",
            "F1 score: 0.752017213555675\n",
            "\n",
            "\n",
            "\n",
            "              precision    recall  f1-score   support\n",
            "\n",
            "           0       0.65      0.98      0.78      1318\n",
            "           1       0.92      0.28      0.43       966\n",
            "\n",
            "    accuracy                           0.69      2284\n",
            "   macro avg       0.78      0.63      0.61      2284\n",
            "weighted avg       0.76      0.69      0.64      2284\n",
            "\n",
            "\n",
            "F1 score: 0.43443917851500785\n",
            "\n",
            "\n",
            "\n"
          ]
        }
      ],
      "source": [
        "# Пробуем n-граммы\n",
        "\n",
        "vectorizer = CountVectorizer(tokenizer=custom_tokenizer, ngram_range=(1, 3))\n",
        "train_vec = vectorizer.fit_transform(train_new['concated'])\n",
        "test_vec = vectorizer.transform(test_new['concated'])\n",
        "\n",
        "lr = LogisticRegression()\n",
        "lr.fit(train_vec.toarray(), train_new['target'])\n",
        "\n",
        "y_pred = lr.predict(test_vec.toarray())\n",
        "\n",
        "\n",
        "print(classification_report(y_true=test_new['target'], y_pred=y_pred))\n",
        "print()\n",
        "print('F1 score:', f1_score(y_true=test_new['target'], y_pred=y_pred))\n",
        "print('\\n\\n')\n",
        "\n",
        "vectorizer = CountVectorizer(tokenizer=custom_tokenizer, ngram_range=(1, 1))\n",
        "train_vec = vectorizer.fit_transform(train_new['concated'])\n",
        "test_vec = vectorizer.transform(test_new['concated'])\n",
        "\n",
        "lr = LogisticRegression()\n",
        "lr.fit(train_vec.toarray(), train_new['target'])\n",
        "\n",
        "y_pred = lr.predict(test_vec.toarray())\n",
        "\n",
        "\n",
        "print(classification_report(y_true=test_new['target'], y_pred=y_pred))\n",
        "print()\n",
        "print('F1 score:', f1_score(y_true=test_new['target'], y_pred=y_pred))\n",
        "print('\\n\\n')\n",
        "\n",
        "vectorizer = CountVectorizer(tokenizer=custom_tokenizer, ngram_range=(3, 3))\n",
        "train_vec = vectorizer.fit_transform(train_new['concated'])\n",
        "test_vec = vectorizer.transform(test_new['concated'])\n",
        "\n",
        "lr = LogisticRegression()\n",
        "lr.fit(train_vec.toarray(), train_new['target'])\n",
        "\n",
        "y_pred = lr.predict(test_vec.toarray())\n",
        "\n",
        "\n",
        "print(classification_report(y_true=test_new['target'], y_pred=y_pred))\n",
        "print()\n",
        "print('F1 score:', f1_score(y_true=test_new['target'], y_pred=y_pred))\n",
        "print('\\n\\n')\n"
      ]
    },
    {
      "cell_type": "code",
      "execution_count": 41,
      "metadata": {},
      "outputs": [
        {
          "name": "stdout",
          "output_type": "stream",
          "text": [
            "min_df=0.0001      max_df=0.1\n",
            "              precision    recall  f1-score   support\n",
            "\n",
            "           0       0.80      0.88      0.83      1318\n",
            "           1       0.81      0.69      0.75       966\n",
            "\n",
            "    accuracy                           0.80      2284\n",
            "   macro avg       0.80      0.79      0.79      2284\n",
            "weighted avg       0.80      0.80      0.80      2284\n",
            "\n",
            "\n",
            "F1 score: 0.745969983324069\n",
            "min_df=0.0002      max_df=0.09000000000000001\n",
            "              precision    recall  f1-score   support\n",
            "\n",
            "           0       0.80      0.88      0.83      1318\n",
            "           1       0.81      0.69      0.75       966\n",
            "\n",
            "    accuracy                           0.80      2284\n",
            "   macro avg       0.80      0.79      0.79      2284\n",
            "weighted avg       0.80      0.80      0.80      2284\n",
            "\n",
            "\n",
            "F1 score: 0.745969983324069\n",
            "min_df=0.00030000000000000003      max_df=0.08\n",
            "              precision    recall  f1-score   support\n",
            "\n",
            "           0       0.80      0.88      0.83      1318\n",
            "           1       0.81      0.69      0.75       966\n",
            "\n",
            "    accuracy                           0.80      2284\n",
            "   macro avg       0.80      0.79      0.79      2284\n",
            "weighted avg       0.80      0.80      0.80      2284\n",
            "\n",
            "\n",
            "F1 score: 0.745969983324069\n",
            "min_df=0.0004      max_df=0.07\n",
            "              precision    recall  f1-score   support\n",
            "\n",
            "           0       0.80      0.88      0.83      1318\n",
            "           1       0.81      0.69      0.75       966\n",
            "\n",
            "    accuracy                           0.80      2284\n",
            "   macro avg       0.80      0.79      0.79      2284\n",
            "weighted avg       0.80      0.80      0.80      2284\n",
            "\n",
            "\n",
            "F1 score: 0.745969983324069\n",
            "min_df=0.0005      max_df=0.060000000000000005\n",
            "              precision    recall  f1-score   support\n",
            "\n",
            "           0       0.80      0.88      0.83      1318\n",
            "           1       0.81      0.69      0.75       966\n",
            "\n",
            "    accuracy                           0.80      2284\n",
            "   macro avg       0.80      0.79      0.79      2284\n",
            "weighted avg       0.80      0.80      0.80      2284\n",
            "\n",
            "\n",
            "F1 score: 0.745969983324069\n",
            "min_df=0.0006000000000000001      max_df=0.05\n",
            "              precision    recall  f1-score   support\n",
            "\n",
            "           0       0.80      0.88      0.83      1318\n",
            "           1       0.81      0.69      0.75       966\n",
            "\n",
            "    accuracy                           0.80      2284\n",
            "   macro avg       0.80      0.79      0.79      2284\n",
            "weighted avg       0.80      0.80      0.80      2284\n",
            "\n",
            "\n",
            "F1 score: 0.745969983324069\n",
            "min_df=0.0007000000000000001      max_df=0.04000000000000001\n",
            "              precision    recall  f1-score   support\n",
            "\n",
            "           0       0.80      0.88      0.83      1318\n",
            "           1       0.81      0.69      0.75       966\n",
            "\n",
            "    accuracy                           0.80      2284\n",
            "   macro avg       0.80      0.79      0.79      2284\n",
            "weighted avg       0.80      0.80      0.80      2284\n",
            "\n",
            "\n",
            "F1 score: 0.745969983324069\n",
            "min_df=0.0008      max_df=0.03\n",
            "              precision    recall  f1-score   support\n",
            "\n",
            "           0       0.80      0.88      0.83      1318\n",
            "           1       0.81      0.69      0.75       966\n",
            "\n",
            "    accuracy                           0.80      2284\n",
            "   macro avg       0.80      0.79      0.79      2284\n",
            "weighted avg       0.80      0.80      0.80      2284\n",
            "\n",
            "\n",
            "F1 score: 0.745969983324069\n",
            "min_df=0.0009000000000000001      max_df=0.020000000000000004\n",
            "              precision    recall  f1-score   support\n",
            "\n",
            "           0       0.80      0.88      0.83      1318\n",
            "           1       0.81      0.69      0.75       966\n",
            "\n",
            "    accuracy                           0.80      2284\n",
            "   macro avg       0.80      0.79      0.79      2284\n",
            "weighted avg       0.80      0.80      0.80      2284\n",
            "\n",
            "\n",
            "F1 score: 0.745969983324069\n",
            "min_df=0.001      max_df=0.010000000000000009\n",
            "              precision    recall  f1-score   support\n",
            "\n",
            "           0       0.80      0.88      0.83      1318\n",
            "           1       0.81      0.69      0.75       966\n",
            "\n",
            "    accuracy                           0.80      2284\n",
            "   macro avg       0.80      0.79      0.79      2284\n",
            "weighted avg       0.80      0.80      0.80      2284\n",
            "\n",
            "\n",
            "F1 score: 0.745969983324069\n"
          ]
        }
      ],
      "source": [
        "for i in range(10):\n",
        "    max_df = 0.1\n",
        "    min_df = 0.0001\n",
        "    max_df -= i * 0.01\n",
        "    min_df += i * 0.0001\n",
        "    vectorizer = TfidfVectorizer(tokenizer=custom_tokenizer, max_df=0.9, min_df=0.0003)\n",
        "    train_vec_tf = vectorizer.fit_transform(train_new['concated'])\n",
        "    test_vec_tf = vectorizer.transform(test_new['concated'])\n",
        "\n",
        "    lr = LogisticRegression()\n",
        "    lr.fit(train_vec_tf.toarray(), train_new['target'])\n",
        "\n",
        "    y_pred = lr.predict(test_vec_tf.toarray())\n",
        "\n",
        "    print(f'min_df={min_df}      max_df={max_df}')\n",
        "    print(classification_report(y_true=test_new['target'], y_pred=y_pred))\n",
        "    print()\n",
        "    print('F1 score:', f1_score(y_true=test_new['target'], y_pred=y_pred))"
      ]
    },
    {
      "cell_type": "code",
      "execution_count": 42,
      "metadata": {},
      "outputs": [
        {
          "name": "stdout",
          "output_type": "stream",
          "text": [
            "              precision    recall  f1-score   support\n",
            "\n",
            "           0       0.81      0.85      0.83      1318\n",
            "           1       0.78      0.72      0.75       966\n",
            "\n",
            "    accuracy                           0.80      2284\n",
            "   macro avg       0.80      0.79      0.79      2284\n",
            "weighted avg       0.80      0.80      0.80      2284\n",
            "\n",
            "\n",
            "F1 score: 0.752017213555675\n",
            "\n",
            "\n",
            "\n"
          ]
        }
      ],
      "source": [
        "# Стандартный вариант оказался самым лучшим\n",
        "vectorizer = CountVectorizer(tokenizer=custom_tokenizer)\n",
        "train_vec = vectorizer.fit_transform(train_new['concated'])\n",
        "test_vec = vectorizer.transform(test_new['concated'])\n",
        "\n",
        "lr = LogisticRegression()\n",
        "lr.fit(train_vec.toarray(), train_new['target'])\n",
        "\n",
        "y_pred = lr.predict(test_vec.toarray())\n",
        "\n",
        "\n",
        "print(classification_report(y_true=test_new['target'], y_pred=y_pred))\n",
        "print()\n",
        "print('F1 score:', f1_score(y_true=test_new['target'], y_pred=y_pred))\n",
        "print('\\n\\n')\n"
      ]
    }
  ],
  "metadata": {
    "colab": {
      "collapsed_sections": [
        "YlLemInT3HvL",
        "A8CPBUal3HvL"
      ],
      "provenance": []
    },
    "kernelspec": {
      "display_name": "Python 3 (ipykernel)",
      "language": "python",
      "name": "python3"
    },
    "language_info": {
      "codemirror_mode": {
        "name": "ipython",
        "version": 3
      },
      "file_extension": ".py",
      "mimetype": "text/x-python",
      "name": "python",
      "nbconvert_exporter": "python",
      "pygments_lexer": "ipython3",
      "version": "3.10.9"
    }
  },
  "nbformat": 4,
  "nbformat_minor": 0
}
