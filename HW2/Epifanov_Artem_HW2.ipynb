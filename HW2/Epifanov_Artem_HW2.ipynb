{
 "cells": [
  {
   "cell_type": "markdown",
   "metadata": {
    "_uuid": "21c25e4f8bb31570029fd6b069131a5d00f84cf1",
    "id": "IXLXcOEqyUkZ"
   },
   "source": [
    "# Домашнее задание 2 (5 баллов).\n",
    "\n",
    "Все задания ниже имеют равный вес (5/16)."
   ]
  },
  {
   "cell_type": "code",
   "execution_count": 1,
   "metadata": {
    "_uuid": "568eb2d31004b87d22e119112ae01a1e75105f1d",
    "id": "aBSQlOjTyUkb"
   },
   "outputs": [],
   "source": [
    "import pandas as pd\n",
    "import glob\n",
    "import os"
   ]
  },
  {
   "cell_type": "markdown",
   "metadata": {
    "id": "u2wHH1LKyUkc"
   },
   "source": [
    "#### Описание данных\n",
    "\n",
    "В папке Data находится информация о студентах. Всего 10 групп студентов. Файлы делятся на две категории:\n",
    "    * Students_info_i - информация о студентах из группы i\n",
    "    * Students_marks_i - оценки студентов из группы i за экзамены"
   ]
  },
  {
   "cell_type": "markdown",
   "metadata": {
    "id": "SUkcn4STyUkc"
   },
   "source": [
    "### Одно из важных достоинств pandas $-$ это удобные методы реляционного взаимодействия с данными, аналогичные, например, возможностям SQL для слияния и конкатенации таблиц: merge, join, concat. Наличие готовых методов позволяет не реализовывать самостоятельно поэлементную обработку данных и оперировать сразу целыми таблицами данных.\n",
    "\n",
    "Подробно об этих методах посмотрите тут: https://www.kaggle.com/residentmario/renaming-and-combining#Combining"
   ]
  },
  {
   "cell_type": "markdown",
   "metadata": {
    "id": "IWA867_XyUkd"
   },
   "source": [
    "#### Задание 1. Соберите всю информацию о студентах в одну таблицу df. В получившейся таблице должна быть информация и оценки всех студентов из всех групп. Напечатайте несколько строк таблицы для демонстрации результата."
   ]
  },
  {
   "cell_type": "code",
   "execution_count": 2,
   "metadata": {
    "id": "dnGjXo68yUkd",
    "outputId": "6ac77ee7-d561-4f5a-f979-32f01fbf6515",
    "colab": {
     "base_uri": "https://localhost:8080/",
     "height": 661
    }
   },
   "outputs": [
    {
     "data": {
      "text/plain": "     index  gender race/ethnicity parental level of education         lunch  \\\n0        0  female        group B           bachelor's degree      standard   \n1        1  female        group C                some college      standard   \n2        2  female        group B             master's degree      standard   \n3        3    male        group A          associate's degree  free/reduced   \n4        4    male        group C                some college      standard   \n..     ...     ...            ...                         ...           ...   \n995    995  female        group E             master's degree      standard   \n996    996    male        group C                 high school  free/reduced   \n997    997  female        group C                 high school  free/reduced   \n998    998  female        group D                some college      standard   \n999    999  female        group D                some college  free/reduced   \n\n    test preparation course    group  math score  reading score  writing score  \n0                      none   group1          72             72             74  \n1                 completed   group1          69             90             88  \n2                      none   group1          90             95             93  \n3                      none   group1          47             57             44  \n4                      none   group1          76             78             75  \n..                      ...      ...         ...            ...            ...  \n995               completed  group10          88             99             95  \n996                    none  group10          62             55             55  \n997               completed  group10          59             71             65  \n998               completed  group10          68             78             77  \n999                    none  group10          77             86             86  \n\n[1000 rows x 10 columns]",
      "text/html": "<div>\n<style scoped>\n    .dataframe tbody tr th:only-of-type {\n        vertical-align: middle;\n    }\n\n    .dataframe tbody tr th {\n        vertical-align: top;\n    }\n\n    .dataframe thead th {\n        text-align: right;\n    }\n</style>\n<table border=\"1\" class=\"dataframe\">\n  <thead>\n    <tr style=\"text-align: right;\">\n      <th></th>\n      <th>index</th>\n      <th>gender</th>\n      <th>race/ethnicity</th>\n      <th>parental level of education</th>\n      <th>lunch</th>\n      <th>test preparation course</th>\n      <th>group</th>\n      <th>math score</th>\n      <th>reading score</th>\n      <th>writing score</th>\n    </tr>\n  </thead>\n  <tbody>\n    <tr>\n      <th>0</th>\n      <td>0</td>\n      <td>female</td>\n      <td>group B</td>\n      <td>bachelor's degree</td>\n      <td>standard</td>\n      <td>none</td>\n      <td>group1</td>\n      <td>72</td>\n      <td>72</td>\n      <td>74</td>\n    </tr>\n    <tr>\n      <th>1</th>\n      <td>1</td>\n      <td>female</td>\n      <td>group C</td>\n      <td>some college</td>\n      <td>standard</td>\n      <td>completed</td>\n      <td>group1</td>\n      <td>69</td>\n      <td>90</td>\n      <td>88</td>\n    </tr>\n    <tr>\n      <th>2</th>\n      <td>2</td>\n      <td>female</td>\n      <td>group B</td>\n      <td>master's degree</td>\n      <td>standard</td>\n      <td>none</td>\n      <td>group1</td>\n      <td>90</td>\n      <td>95</td>\n      <td>93</td>\n    </tr>\n    <tr>\n      <th>3</th>\n      <td>3</td>\n      <td>male</td>\n      <td>group A</td>\n      <td>associate's degree</td>\n      <td>free/reduced</td>\n      <td>none</td>\n      <td>group1</td>\n      <td>47</td>\n      <td>57</td>\n      <td>44</td>\n    </tr>\n    <tr>\n      <th>4</th>\n      <td>4</td>\n      <td>male</td>\n      <td>group C</td>\n      <td>some college</td>\n      <td>standard</td>\n      <td>none</td>\n      <td>group1</td>\n      <td>76</td>\n      <td>78</td>\n      <td>75</td>\n    </tr>\n    <tr>\n      <th>...</th>\n      <td>...</td>\n      <td>...</td>\n      <td>...</td>\n      <td>...</td>\n      <td>...</td>\n      <td>...</td>\n      <td>...</td>\n      <td>...</td>\n      <td>...</td>\n      <td>...</td>\n    </tr>\n    <tr>\n      <th>995</th>\n      <td>995</td>\n      <td>female</td>\n      <td>group E</td>\n      <td>master's degree</td>\n      <td>standard</td>\n      <td>completed</td>\n      <td>group10</td>\n      <td>88</td>\n      <td>99</td>\n      <td>95</td>\n    </tr>\n    <tr>\n      <th>996</th>\n      <td>996</td>\n      <td>male</td>\n      <td>group C</td>\n      <td>high school</td>\n      <td>free/reduced</td>\n      <td>none</td>\n      <td>group10</td>\n      <td>62</td>\n      <td>55</td>\n      <td>55</td>\n    </tr>\n    <tr>\n      <th>997</th>\n      <td>997</td>\n      <td>female</td>\n      <td>group C</td>\n      <td>high school</td>\n      <td>free/reduced</td>\n      <td>completed</td>\n      <td>group10</td>\n      <td>59</td>\n      <td>71</td>\n      <td>65</td>\n    </tr>\n    <tr>\n      <th>998</th>\n      <td>998</td>\n      <td>female</td>\n      <td>group D</td>\n      <td>some college</td>\n      <td>standard</td>\n      <td>completed</td>\n      <td>group10</td>\n      <td>68</td>\n      <td>78</td>\n      <td>77</td>\n    </tr>\n    <tr>\n      <th>999</th>\n      <td>999</td>\n      <td>female</td>\n      <td>group D</td>\n      <td>some college</td>\n      <td>free/reduced</td>\n      <td>none</td>\n      <td>group10</td>\n      <td>77</td>\n      <td>86</td>\n      <td>86</td>\n    </tr>\n  </tbody>\n</table>\n<p>1000 rows × 10 columns</p>\n</div>"
     },
     "metadata": {},
     "output_type": "display_data"
    }
   ],
   "source": [
    "files = glob.glob('Data/*.csv')\n",
    "df1 = pd.DataFrame()\n",
    "df2 = pd.DataFrame()\n",
    "files.sort()\n",
    "for file in files:\n",
    "  if os.path.basename(file).find('info') != -1: \n",
    "    df1 = pd.concat([df1, pd.read_csv(file)])\n",
    "  else:\n",
    "    df2 = pd.concat([df2, pd.read_csv(file)])\n",
    "df = pd.merge(df1, df2, on='index')\n",
    "display(df)"
   ]
  },
  {
   "cell_type": "markdown",
   "metadata": {
    "_uuid": "8524af4cbd2f7b7810e8a3095a74c9fe1df7eafa",
    "id": "r4b3ajSryUkd"
   },
   "source": [
    "#### Задание 2. Удалите столбец index у полученной таблицы. Напечатайте первые 10 строк таблицы."
   ]
  },
  {
   "cell_type": "code",
   "execution_count": 3,
   "metadata": {
    "_uuid": "fe62eee87b9b94ab923f57b55eaf0554612aa9e9",
    "id": "byFZ9QAOyUke",
    "outputId": "5ea9b051-9968-411b-d6b2-9bd4f129a7df",
    "colab": {
     "base_uri": "https://localhost:8080/",
     "height": 601
    }
   },
   "outputs": [
    {
     "data": {
      "text/plain": "   gender race/ethnicity parental level of education         lunch  \\\n0  female        group B           bachelor's degree      standard   \n1  female        group C                some college      standard   \n2  female        group B             master's degree      standard   \n3    male        group A          associate's degree  free/reduced   \n4    male        group C                some college      standard   \n5  female        group B          associate's degree      standard   \n6  female        group B                some college      standard   \n7    male        group B                some college  free/reduced   \n8    male        group D                 high school  free/reduced   \n9  female        group B                 high school  free/reduced   \n\n  test preparation course   group  math score  reading score  writing score  \n0                    none  group1          72             72             74  \n1               completed  group1          69             90             88  \n2                    none  group1          90             95             93  \n3                    none  group1          47             57             44  \n4                    none  group1          76             78             75  \n5                    none  group1          71             83             78  \n6               completed  group1          88             95             92  \n7                    none  group1          40             43             39  \n8               completed  group1          64             64             67  \n9                    none  group1          38             60             50  ",
      "text/html": "<div>\n<style scoped>\n    .dataframe tbody tr th:only-of-type {\n        vertical-align: middle;\n    }\n\n    .dataframe tbody tr th {\n        vertical-align: top;\n    }\n\n    .dataframe thead th {\n        text-align: right;\n    }\n</style>\n<table border=\"1\" class=\"dataframe\">\n  <thead>\n    <tr style=\"text-align: right;\">\n      <th></th>\n      <th>gender</th>\n      <th>race/ethnicity</th>\n      <th>parental level of education</th>\n      <th>lunch</th>\n      <th>test preparation course</th>\n      <th>group</th>\n      <th>math score</th>\n      <th>reading score</th>\n      <th>writing score</th>\n    </tr>\n  </thead>\n  <tbody>\n    <tr>\n      <th>0</th>\n      <td>female</td>\n      <td>group B</td>\n      <td>bachelor's degree</td>\n      <td>standard</td>\n      <td>none</td>\n      <td>group1</td>\n      <td>72</td>\n      <td>72</td>\n      <td>74</td>\n    </tr>\n    <tr>\n      <th>1</th>\n      <td>female</td>\n      <td>group C</td>\n      <td>some college</td>\n      <td>standard</td>\n      <td>completed</td>\n      <td>group1</td>\n      <td>69</td>\n      <td>90</td>\n      <td>88</td>\n    </tr>\n    <tr>\n      <th>2</th>\n      <td>female</td>\n      <td>group B</td>\n      <td>master's degree</td>\n      <td>standard</td>\n      <td>none</td>\n      <td>group1</td>\n      <td>90</td>\n      <td>95</td>\n      <td>93</td>\n    </tr>\n    <tr>\n      <th>3</th>\n      <td>male</td>\n      <td>group A</td>\n      <td>associate's degree</td>\n      <td>free/reduced</td>\n      <td>none</td>\n      <td>group1</td>\n      <td>47</td>\n      <td>57</td>\n      <td>44</td>\n    </tr>\n    <tr>\n      <th>4</th>\n      <td>male</td>\n      <td>group C</td>\n      <td>some college</td>\n      <td>standard</td>\n      <td>none</td>\n      <td>group1</td>\n      <td>76</td>\n      <td>78</td>\n      <td>75</td>\n    </tr>\n    <tr>\n      <th>5</th>\n      <td>female</td>\n      <td>group B</td>\n      <td>associate's degree</td>\n      <td>standard</td>\n      <td>none</td>\n      <td>group1</td>\n      <td>71</td>\n      <td>83</td>\n      <td>78</td>\n    </tr>\n    <tr>\n      <th>6</th>\n      <td>female</td>\n      <td>group B</td>\n      <td>some college</td>\n      <td>standard</td>\n      <td>completed</td>\n      <td>group1</td>\n      <td>88</td>\n      <td>95</td>\n      <td>92</td>\n    </tr>\n    <tr>\n      <th>7</th>\n      <td>male</td>\n      <td>group B</td>\n      <td>some college</td>\n      <td>free/reduced</td>\n      <td>none</td>\n      <td>group1</td>\n      <td>40</td>\n      <td>43</td>\n      <td>39</td>\n    </tr>\n    <tr>\n      <th>8</th>\n      <td>male</td>\n      <td>group D</td>\n      <td>high school</td>\n      <td>free/reduced</td>\n      <td>completed</td>\n      <td>group1</td>\n      <td>64</td>\n      <td>64</td>\n      <td>67</td>\n    </tr>\n    <tr>\n      <th>9</th>\n      <td>female</td>\n      <td>group B</td>\n      <td>high school</td>\n      <td>free/reduced</td>\n      <td>none</td>\n      <td>group1</td>\n      <td>38</td>\n      <td>60</td>\n      <td>50</td>\n    </tr>\n  </tbody>\n</table>\n</div>"
     },
     "metadata": {},
     "output_type": "display_data"
    }
   ],
   "source": [
    "df = df.drop(columns='index')\n",
    "display(df.head(10))"
   ]
  },
  {
   "cell_type": "markdown",
   "metadata": {
    "_uuid": "5fcd622942b7ecfc318934c6a245d3bb3bf01e84",
    "id": "HLLscT2KyUke"
   },
   "source": [
    "#### Задание 3. Выведите на экран размеры полученной таблицы"
   ]
  },
  {
   "cell_type": "code",
   "execution_count": 4,
   "metadata": {
    "_uuid": "16281cd7b4e941ebed8ca2e1b42f62f55d838684",
    "id": "G0jkOzhoyUkf",
    "outputId": "8919d6c7-e414-4f95-a985-889ea99ddbb4",
    "colab": {
     "base_uri": "https://localhost:8080/"
    }
   },
   "outputs": [
    {
     "name": "stdout",
     "output_type": "stream",
     "text": [
      "(1000, 9)\n"
     ]
    }
   ],
   "source": [
    "print(df.shape)"
   ]
  },
  {
   "cell_type": "markdown",
   "metadata": {
    "_uuid": "fe8e3d58d29ca25dbbcf001392377643e6ff9a36",
    "id": "HmaAwVPYyUkf"
   },
   "source": [
    "#### Задание 4. Выведите на экран статистические характеристики числовых столбцов таблицы (минимум, максимум, среднее значение, стандартное отклонение)"
   ]
  },
  {
   "cell_type": "code",
   "execution_count": 5,
   "metadata": {
    "_uuid": "e3d4bb80d2c4251fe517c24fcf08c5ff2d67b8aa",
    "id": "KQDRxulEyUkf",
    "outputId": "6a17899c-3f6e-485e-e0b0-e4034ccaa3ee",
    "colab": {
     "base_uri": "https://localhost:8080/",
     "height": 300
    }
   },
   "outputs": [
    {
     "data": {
      "text/plain": "      math score  reading score  writing score\nmin      0.00000      17.000000      10.000000\nmax    100.00000     100.000000     100.000000\nmean    66.08900      69.169000      68.054000\nstd     15.16308      14.600192      15.195657",
      "text/html": "<div>\n<style scoped>\n    .dataframe tbody tr th:only-of-type {\n        vertical-align: middle;\n    }\n\n    .dataframe tbody tr th {\n        vertical-align: top;\n    }\n\n    .dataframe thead th {\n        text-align: right;\n    }\n</style>\n<table border=\"1\" class=\"dataframe\">\n  <thead>\n    <tr style=\"text-align: right;\">\n      <th></th>\n      <th>math score</th>\n      <th>reading score</th>\n      <th>writing score</th>\n    </tr>\n  </thead>\n  <tbody>\n    <tr>\n      <th>min</th>\n      <td>0.00000</td>\n      <td>17.000000</td>\n      <td>10.000000</td>\n    </tr>\n    <tr>\n      <th>max</th>\n      <td>100.00000</td>\n      <td>100.000000</td>\n      <td>100.000000</td>\n    </tr>\n    <tr>\n      <th>mean</th>\n      <td>66.08900</td>\n      <td>69.169000</td>\n      <td>68.054000</td>\n    </tr>\n    <tr>\n      <th>std</th>\n      <td>15.16308</td>\n      <td>14.600192</td>\n      <td>15.195657</td>\n    </tr>\n  </tbody>\n</table>\n</div>"
     },
     "metadata": {},
     "output_type": "display_data"
    }
   ],
   "source": [
    "display(df.describe().loc[['min', 'max', 'mean', 'std']])"
   ]
  },
  {
   "cell_type": "markdown",
   "metadata": {
    "_uuid": "b26b7de83485ecb3b8a0a7865a596e24527c7b2f",
    "id": "9YgTuxscyUkf"
   },
   "source": [
    "#### Задание 5. Проверьте, есть ли в таблице пропущенные значения"
   ]
  },
  {
   "cell_type": "code",
   "execution_count": 6,
   "metadata": {
    "_uuid": "4eac3f8f83d07c6e58ad1576fe0e773f37034a2f",
    "id": "6SIMva7KyUkg",
    "colab": {
     "base_uri": "https://localhost:8080/"
    },
    "outputId": "52884b04-a8a6-44d4-80b8-617d6154bfd7"
   },
   "outputs": [
    {
     "name": "stdout",
     "output_type": "stream",
     "text": [
      "Пропущенных значений нет.\n"
     ]
    }
   ],
   "source": [
    "if df.isna().sum().sum() == 0:\n",
    "  print('Пропущенных значений нет.')\n",
    "else:\n",
    "  print('Пропущенные значения есть.')"
   ]
  },
  {
   "cell_type": "markdown",
   "metadata": {
    "id": "-ival3LbyUkg"
   },
   "source": [
    "#### Задание 6. Выведите на экран средние баллы студентов по каждому предмету (math, reading, writing)"
   ]
  },
  {
   "cell_type": "code",
   "execution_count": 7,
   "metadata": {
    "id": "8XfuOwl2yUkg",
    "colab": {
     "base_uri": "https://localhost:8080/"
    },
    "outputId": "3116051a-ca3b-4629-c074-9666e45a62d2"
   },
   "outputs": [
    {
     "name": "stdout",
     "output_type": "stream",
     "text": [
      "Math mean score: 66.089\n",
      "Reading mean score: 69.169\n",
      "Writing mean score: 68.054\n"
     ]
    }
   ],
   "source": [
    "print('Math mean score:', df['math score'].mean())\n",
    "print('Reading mean score:', df['reading score'].mean())\n",
    "print('Writing mean score:', df['writing score'].mean())"
   ]
  },
  {
   "cell_type": "markdown",
   "metadata": {
    "id": "iNFM4k4hyUkg"
   },
   "source": [
    "**Задание 7. Как зависят оценки от того, проходил ли студент курс для подготовки к сдаче экзамена (test preparation course)? Выведите на экран для каждого предмета в отдельности средний балл студентов, проходивших курс для подготовки к экзамену и не проходивших курс.**"
   ]
  },
  {
   "cell_type": "code",
   "execution_count": 8,
   "metadata": {
    "id": "qXzqp1hUyUkg",
    "colab": {
     "base_uri": "https://localhost:8080/"
    },
    "outputId": "55945f2d-31fd-46e1-fcca-77f193ddbb97"
   },
   "outputs": [
    {
     "data": {
      "text/plain": "test preparation course  completed       none\nmath score               69.695531  64.077882\nreading score            73.893855  66.534268\nwriting score            74.418994  64.504673",
      "text/html": "<div>\n<style scoped>\n    .dataframe tbody tr th:only-of-type {\n        vertical-align: middle;\n    }\n\n    .dataframe tbody tr th {\n        vertical-align: top;\n    }\n\n    .dataframe thead th {\n        text-align: right;\n    }\n</style>\n<table border=\"1\" class=\"dataframe\">\n  <thead>\n    <tr style=\"text-align: right;\">\n      <th>test preparation course</th>\n      <th>completed</th>\n      <th>none</th>\n    </tr>\n  </thead>\n  <tbody>\n    <tr>\n      <th>math score</th>\n      <td>69.695531</td>\n      <td>64.077882</td>\n    </tr>\n    <tr>\n      <th>reading score</th>\n      <td>73.893855</td>\n      <td>66.534268</td>\n    </tr>\n    <tr>\n      <th>writing score</th>\n      <td>74.418994</td>\n      <td>64.504673</td>\n    </tr>\n  </tbody>\n</table>\n</div>"
     },
     "metadata": {},
     "output_type": "display_data"
    }
   ],
   "source": [
    "courses_gr = df.groupby(by='test preparation course')\n",
    "display(courses_gr.mean(numeric_only=True).transpose())"
   ]
  },
  {
   "cell_type": "markdown",
   "metadata": {
    "id": "k7lDiDx4yUkg"
   },
   "source": [
    "**Задание 8. Выведите на экран все различные значения из столбца lunch.**"
   ]
  },
  {
   "cell_type": "code",
   "execution_count": 9,
   "metadata": {
    "id": "vPSF7j0NyUkh",
    "colab": {
     "base_uri": "https://localhost:8080/"
    },
    "outputId": "22752969-d38d-417a-916c-b3da4295e6c7"
   },
   "outputs": [
    {
     "name": "stdout",
     "output_type": "stream",
     "text": [
      "['standard' 'free/reduced']\n"
     ]
    }
   ],
   "source": [
    "print(df['lunch'].unique())"
   ]
  },
  {
   "cell_type": "markdown",
   "metadata": {
    "id": "rXguUv9vyUkh"
   },
   "source": [
    "**Задание 9. Переименуйте колонку \"parental level of education\" в \"education\", а \"test preparation course\" в \"test preparation\" с помощью метода pandas rename**\n",
    "https://pandas.pydata.org/pandas-docs/stable/reference/api/pandas.DataFrame.rename.html"
   ]
  },
  {
   "cell_type": "code",
   "execution_count": 10,
   "metadata": {
    "id": "5G11Jo3IyUkh",
    "colab": {
     "base_uri": "https://localhost:8080/",
     "height": 374
    },
    "outputId": "c431a5a7-371d-4fd5-a502-e9a8a1a24f37"
   },
   "outputs": [
    {
     "data": {
      "text/plain": "   gender race/ethnicity           education         lunch test preparation  \\\n0  female        group B   bachelor's degree      standard             none   \n1  female        group C        some college      standard        completed   \n2  female        group B     master's degree      standard             none   \n3    male        group A  associate's degree  free/reduced             none   \n4    male        group C        some college      standard             none   \n\n    group  math score  reading score  writing score  \n0  group1          72             72             74  \n1  group1          69             90             88  \n2  group1          90             95             93  \n3  group1          47             57             44  \n4  group1          76             78             75  ",
      "text/html": "<div>\n<style scoped>\n    .dataframe tbody tr th:only-of-type {\n        vertical-align: middle;\n    }\n\n    .dataframe tbody tr th {\n        vertical-align: top;\n    }\n\n    .dataframe thead th {\n        text-align: right;\n    }\n</style>\n<table border=\"1\" class=\"dataframe\">\n  <thead>\n    <tr style=\"text-align: right;\">\n      <th></th>\n      <th>gender</th>\n      <th>race/ethnicity</th>\n      <th>education</th>\n      <th>lunch</th>\n      <th>test preparation</th>\n      <th>group</th>\n      <th>math score</th>\n      <th>reading score</th>\n      <th>writing score</th>\n    </tr>\n  </thead>\n  <tbody>\n    <tr>\n      <th>0</th>\n      <td>female</td>\n      <td>group B</td>\n      <td>bachelor's degree</td>\n      <td>standard</td>\n      <td>none</td>\n      <td>group1</td>\n      <td>72</td>\n      <td>72</td>\n      <td>74</td>\n    </tr>\n    <tr>\n      <th>1</th>\n      <td>female</td>\n      <td>group C</td>\n      <td>some college</td>\n      <td>standard</td>\n      <td>completed</td>\n      <td>group1</td>\n      <td>69</td>\n      <td>90</td>\n      <td>88</td>\n    </tr>\n    <tr>\n      <th>2</th>\n      <td>female</td>\n      <td>group B</td>\n      <td>master's degree</td>\n      <td>standard</td>\n      <td>none</td>\n      <td>group1</td>\n      <td>90</td>\n      <td>95</td>\n      <td>93</td>\n    </tr>\n    <tr>\n      <th>3</th>\n      <td>male</td>\n      <td>group A</td>\n      <td>associate's degree</td>\n      <td>free/reduced</td>\n      <td>none</td>\n      <td>group1</td>\n      <td>47</td>\n      <td>57</td>\n      <td>44</td>\n    </tr>\n    <tr>\n      <th>4</th>\n      <td>male</td>\n      <td>group C</td>\n      <td>some college</td>\n      <td>standard</td>\n      <td>none</td>\n      <td>group1</td>\n      <td>76</td>\n      <td>78</td>\n      <td>75</td>\n    </tr>\n  </tbody>\n</table>\n</div>"
     },
     "metadata": {},
     "output_type": "display_data"
    }
   ],
   "source": [
    "df = df.rename(columns={'parental level of education':'education', 'test preparation course':'test preparation'})\n",
    "display(df.head())"
   ]
  },
  {
   "cell_type": "markdown",
   "metadata": {
    "id": "4bkQYULAyUkh"
   },
   "source": [
    "**Зафиксируем минимальный балл для сдачи экзамена**"
   ]
  },
  {
   "cell_type": "code",
   "execution_count": 11,
   "metadata": {
    "id": "2lBfjXo_yUkh"
   },
   "outputs": [],
   "source": [
    "passmark = 50"
   ]
  },
  {
   "cell_type": "markdown",
   "metadata": {
    "id": "DsRawDCvyUkh"
   },
   "source": [
    "**Задание 10. Ответьте на вопросы:**\n",
    "    * Какая доля студентов сдала экзамен по математике (passmark >= 50)?\n",
    "    * Какая доля студентов, проходивших курс подготовки к экзамену, сдала экзамен по математике?\n",
    "    * Какая доля женщин, не проходивших курс подготовки к экзамену, не сдала экзамен по математике? "
   ]
  },
  {
   "cell_type": "code",
   "execution_count": 12,
   "metadata": {
    "id": "9d5nW-6lyUkh",
    "colab": {
     "base_uri": "https://localhost:8080/"
    },
    "outputId": "a44f2789-45d5-46a2-c724-a9f19f24c574"
   },
   "outputs": [
    {
     "name": "stdout",
     "output_type": "stream",
     "text": [
      "First: 0.865\n",
      "Second: 0.33\n",
      "Third: 0.07\n"
     ]
    }
   ],
   "source": [
    "first_result = df[df['math score'] >= passmark]\n",
    "print('First:', first_result.shape[0] / df.shape[0])\n",
    "\n",
    "second_result = df[(df['test preparation'] == 'completed') & (df['math score'] >= passmark)]\n",
    "print('Second:', second_result.shape[0] / df.shape[0])\n",
    "\n",
    "third_result = df[(df['gender'] == 'female') & (df['test preparation'] != 'completed') & (df['math score'] < passmark)]\n",
    "print('Third:', third_result.shape[0] / df.shape[0])"
   ]
  },
  {
   "cell_type": "markdown",
   "metadata": {
    "id": "3LrzqXQMyUki"
   },
   "source": [
    "**Задание 11. С помощью groupby выполните задания ниже. Также выведите время выполнения каждого из заданий.**\n",
    "    * Для каждой этнической группы выведите средний балл за экзамен по чтению\n",
    "    * Для каждого уровня образования выведите минимальный балл за экзамен по письму"
   ]
  },
  {
   "cell_type": "code",
   "execution_count": 13,
   "metadata": {
    "id": "u21mE9_ByUki",
    "colab": {
     "base_uri": "https://localhost:8080/"
    },
    "outputId": "b076fc7c-35c3-49b0-a3c3-d29cc42562b5"
   },
   "outputs": [
    {
     "data": {
      "text/plain": "race/ethnicity\ngroup A    64.674157\ngroup B    67.352632\ngroup C    69.103448\ngroup D    70.030534\ngroup E    73.028571\nName: reading score, dtype: float64"
     },
     "metadata": {},
     "output_type": "display_data"
    },
    {
     "name": "stdout",
     "output_type": "stream",
     "text": [
      "\n",
      "\n",
      "\n"
     ]
    },
    {
     "data": {
      "text/plain": "education\nassociate's degree    35\nbachelor's degree     38\nhigh school           15\nmaster's degree       46\nsome college          19\nsome high school      10\nName: writing score, dtype: int64"
     },
     "metadata": {},
     "output_type": "display_data"
    },
    {
     "name": "stdout",
     "output_type": "stream",
     "text": [
      "\n",
      "\n",
      "CPU times: user 4.02 ms, sys: 1.75 ms, total: 5.77 ms\n",
      "Wall time: 5.47 ms\n"
     ]
    }
   ],
   "source": [
    "%%time\n",
    "first_gr = df.groupby(by='race/ethnicity')\n",
    "first_result = first_gr['reading score'].mean()\n",
    "display(first_result)\n",
    "print('\\n\\n')\n",
    "second_gr = df.groupby(by='education')\n",
    "second_result = second_gr['writing score'].min()\n",
    "display(second_result)\n",
    "print('\\n')"
   ]
  },
  {
   "cell_type": "markdown",
   "metadata": {
    "id": "E4EHwhzpyUki"
   },
   "source": [
    "**Задание 12. Выполните задание 11 с помощью циклов. Сравните время выполнения.**"
   ]
  },
  {
   "cell_type": "code",
   "execution_count": 14,
   "metadata": {
    "id": "Y-kkkpjvyUki",
    "colab": {
     "base_uri": "https://localhost:8080/"
    },
    "outputId": "d13d0e41-e923-43d8-e36f-3b63cbaa25e0"
   },
   "outputs": [
    {
     "name": "stdout",
     "output_type": "stream",
     "text": [
      "group A\t\t64.67415730337079\n",
      "group B\t\t67.35263157894737\n",
      "group C\t\t69.10344827586206\n",
      "group D\t\t70.03053435114504\n",
      "group E\t\t73.02857142857142\n",
      "\n",
      "\n",
      "\n",
      "associate's degree = 35\n",
      "bachelor's degree = 38\n",
      "high school = 15\n",
      "master's degree = 46\n",
      "some college = 19\n",
      "some high school = 10\n",
      "\n",
      "\n",
      "CPU times: user 24.2 ms, sys: 1.24 ms, total: 25.5 ms\n",
      "Wall time: 25 ms\n"
     ]
    }
   ],
   "source": [
    "%%time\n",
    "first_result = dict()\n",
    "for i in range(df.shape[0]):\n",
    "  if first_result.get(df['race/ethnicity'][i]) is None:\n",
    "    first_result[df['race/ethnicity'][i]] = (df['reading score'][i], 1)\n",
    "  else:\n",
    "    first_result[df['race/ethnicity'][i]] = (first_result[df['race/ethnicity'][i]][0] + df['reading score'][i], first_result[df['race/ethnicity'][i]][1] + 1)\n",
    "for item in first_result.items():\n",
    "  first_result[item[0]] = item[1][0] / item[1][1]\n",
    "s_first_result = dict(sorted(first_result.items()))\n",
    "for item in s_first_result.items():\n",
    "  print(f'{item[0]}\\t\\t{s_first_result[item[0]]}')\n",
    "print('\\n\\n')\n",
    "\n",
    "second_result = dict()\n",
    "for i in range(df.shape[0]):\n",
    "  if second_result.get(df['education'][i]) is None:\n",
    "    second_result[df['education'][i]] = df['writing score'][i]\n",
    "  else:\n",
    "    second_result[df['education'][i]] = min(second_result[df['education'][i]], df['writing score'][i])\n",
    "s_second_result = dict(sorted(second_result.items()))\n",
    "for item in s_second_result.items():\n",
    "  print(f'{item[0]} = {s_second_result[item[0]]}')\n",
    "print('\\n')"
   ]
  },
  {
   "cell_type": "markdown",
   "metadata": {
    "id": "H4GFgb7syUki"
   },
   "source": [
    "**Задание 13. Выведите на экран средние баллы студентов по каждому предмету в зависимости от пола и уровня образования. То есть должно получиться количество групп, равных 2 * (число уровней образования), и для каждой такой группы выыведите средний балл по каждому из предметов.**\n",
    "\n",
    "Это можно сделать с помощью сводных таблиц (pivot_table):\n",
    "\n",
    "https://www.kaggle.com/kamilpolak/tutorial-how-to-use-pivot-table-in-pandas"
   ]
  },
  {
   "cell_type": "code",
   "execution_count": 15,
   "metadata": {
    "id": "IPb92I2UyUki",
    "colab": {
     "base_uri": "https://localhost:8080/",
     "height": 457
    },
    "outputId": "7368cdc3-d22c-477f-bcbb-7124d19598ad"
   },
   "outputs": [
    {
     "data": {
      "text/plain": "                           math score  reading score  writing score\ngender education                                                   \nfemale associate's degree   65.250000      74.120690      74.000000\n       bachelor's degree    68.349206      77.285714      78.380952\n       high school          59.351064      68.202128      66.691489\n       master's degree      66.500000      76.805556      77.638889\n       some college         65.406780      73.550847      74.050847\n       some high school     59.296703      69.109890      68.285714\nmale   associate's degree   70.764151      67.433962      65.405660\n       bachelor's degree    70.581818      68.090909      67.654545\n       high school          64.705882      61.480392      58.539216\n       master's degree      74.826087      73.130435      72.608696\n       some college         69.009259      64.990741      63.148148\n       some high school     67.840909      64.693182      61.375000",
      "text/html": "<div>\n<style scoped>\n    .dataframe tbody tr th:only-of-type {\n        vertical-align: middle;\n    }\n\n    .dataframe tbody tr th {\n        vertical-align: top;\n    }\n\n    .dataframe thead th {\n        text-align: right;\n    }\n</style>\n<table border=\"1\" class=\"dataframe\">\n  <thead>\n    <tr style=\"text-align: right;\">\n      <th></th>\n      <th></th>\n      <th>math score</th>\n      <th>reading score</th>\n      <th>writing score</th>\n    </tr>\n    <tr>\n      <th>gender</th>\n      <th>education</th>\n      <th></th>\n      <th></th>\n      <th></th>\n    </tr>\n  </thead>\n  <tbody>\n    <tr>\n      <th rowspan=\"6\" valign=\"top\">female</th>\n      <th>associate's degree</th>\n      <td>65.250000</td>\n      <td>74.120690</td>\n      <td>74.000000</td>\n    </tr>\n    <tr>\n      <th>bachelor's degree</th>\n      <td>68.349206</td>\n      <td>77.285714</td>\n      <td>78.380952</td>\n    </tr>\n    <tr>\n      <th>high school</th>\n      <td>59.351064</td>\n      <td>68.202128</td>\n      <td>66.691489</td>\n    </tr>\n    <tr>\n      <th>master's degree</th>\n      <td>66.500000</td>\n      <td>76.805556</td>\n      <td>77.638889</td>\n    </tr>\n    <tr>\n      <th>some college</th>\n      <td>65.406780</td>\n      <td>73.550847</td>\n      <td>74.050847</td>\n    </tr>\n    <tr>\n      <th>some high school</th>\n      <td>59.296703</td>\n      <td>69.109890</td>\n      <td>68.285714</td>\n    </tr>\n    <tr>\n      <th rowspan=\"6\" valign=\"top\">male</th>\n      <th>associate's degree</th>\n      <td>70.764151</td>\n      <td>67.433962</td>\n      <td>65.405660</td>\n    </tr>\n    <tr>\n      <th>bachelor's degree</th>\n      <td>70.581818</td>\n      <td>68.090909</td>\n      <td>67.654545</td>\n    </tr>\n    <tr>\n      <th>high school</th>\n      <td>64.705882</td>\n      <td>61.480392</td>\n      <td>58.539216</td>\n    </tr>\n    <tr>\n      <th>master's degree</th>\n      <td>74.826087</td>\n      <td>73.130435</td>\n      <td>72.608696</td>\n    </tr>\n    <tr>\n      <th>some college</th>\n      <td>69.009259</td>\n      <td>64.990741</td>\n      <td>63.148148</td>\n    </tr>\n    <tr>\n      <th>some high school</th>\n      <td>67.840909</td>\n      <td>64.693182</td>\n      <td>61.375000</td>\n    </tr>\n  </tbody>\n</table>\n</div>"
     },
     "metadata": {},
     "output_type": "display_data"
    }
   ],
   "source": [
    "pivot = pd.pivot_table(data=df, index=['gender', 'education'], values=['math score', 'reading score', 'writing score'], aggfunc=pd.DataFrame.mean)\n",
    "display(pivot)"
   ]
  },
  {
   "cell_type": "markdown",
   "metadata": {
    "_uuid": "3e832cb427c4314582d1953a41b8c78db75e30e3",
    "id": "OPAAtGsNyUki"
   },
   "source": [
    "#### Задание 14. Сколько студентов успешно сдали экзамен по математике?\n",
    "\n",
    "Создайте новый столбец в таблице df под названием Math_PassStatus и запишите в него F, если студент не сдал экзамен по математике (балл за экзамен < passmark), и P иначе.\n",
    "\n",
    "Посчитайте количество студентов, сдавших и не сдавших экзамен по математике.\n",
    "\n",
    "Сделайте аналогичные шаги для экзаменов по чтению и письму."
   ]
  },
  {
   "cell_type": "code",
   "execution_count": 16,
   "metadata": {
    "_uuid": "f43cddb72cc96b30df84bc0de83a4d9170904340",
    "id": "bSebo7RpyUki",
    "colab": {
     "base_uri": "https://localhost:8080/"
    },
    "outputId": "f2accc39-8e0b-4436-956f-46d80a183de2"
   },
   "outputs": [
    {
     "name": "stdout",
     "output_type": "stream",
     "text": [
      "Passed math exam: 865\n",
      "Didn't pass math exam: 135\n",
      "\n",
      "Passed reading exam: 910\n",
      "Didn't pass reading exam: 90\n",
      "\n",
      "Passed writing exam: 886\n",
      "Didn't pass writing exam: 114\n"
     ]
    }
   ],
   "source": [
    "def PassedExam(value: int) -> str:\n",
    "  return 'F' if value < passmark else 'P'\n",
    "\n",
    "#df['Math_PassStatus'] = df['math score'].map(PassedExam)\n",
    "#df['Reading_PassStatus'] = df['reading score'].map(PassedExam)\n",
    "#df['Writing_PassStatus'] = df['writing score'].map(PassedAll)\n",
    "df.insert(df.shape[1], 'Math_PassStatus', df['math score'].map(PassedExam))\n",
    "df.insert(df.shape[1], 'Reading_PassStatus', df['reading score'].map(PassedExam))\n",
    "df.insert(df.shape[1], 'Writing_PassStatus', df['writing score'].map(PassedExam))\n",
    "\n",
    "print('Passed math exam:', df[df['Math_PassStatus'] == 'P'].shape[0])\n",
    "print('Didn\\'t pass math exam:', df[df['Math_PassStatus'] == 'F'].shape[0])\n",
    "print()\n",
    "print('Passed reading exam:', df[df['Reading_PassStatus'] == 'P'].shape[0])\n",
    "print('Didn\\'t pass reading exam:', df[df['Reading_PassStatus'] == 'F'].shape[0])\n",
    "print()\n",
    "print('Passed writing exam:', df[df['Writing_PassStatus'] == 'P'].shape[0])\n",
    "print('Didn\\'t pass writing exam:', df[df['Writing_PassStatus'] == 'F'].shape[0])"
   ]
  },
  {
   "cell_type": "markdown",
   "metadata": {
    "_uuid": "b753c90914ee65501e2ed263ea614d88a381c472",
    "id": "YwgxIog8yUki"
   },
   "source": [
    "#### Задание 15. Сколько студентов успешно сдали все экзамены?\n",
    "\n",
    "Создайте столбец OverAll_PassStatus и запишите в него для каждого студента 'F', если студент не сдал хотя бы один из трех экзаменов, а иначе 'P'.\n",
    "\n",
    "Посчитайте количество студентов, которые сдали все экзамены."
   ]
  },
  {
   "cell_type": "code",
   "execution_count": 17,
   "metadata": {
    "_uuid": "e98f895a022b967cab801447b616222439fe9d84",
    "id": "Ch8otBWOyUki",
    "colab": {
     "base_uri": "https://localhost:8080/"
    },
    "outputId": "eeddb577-a2b3-4477-c123-fe1e90c6a855"
   },
   "outputs": [
    {
     "name": "stdout",
     "output_type": "stream",
     "text": [
      "Количество студентов, которые сдали все экзамены: 812\n"
     ]
    }
   ],
   "source": [
    "def AddOverAllColumn(tmp: pd.DataFrame) -> str:\n",
    "  return 'P' if (tmp['Math_PassStatus'] + tmp['Reading_PassStatus'] + tmp['Writing_PassStatus']) == 'PPP' else 'F'\n",
    "\n",
    "df.insert(df.shape[1], 'OverAll_PassStatus', df[['Math_PassStatus','Reading_PassStatus','Writing_PassStatus']].apply(AddOverAllColumn, axis=1))\n",
    "print('Количество студентов, которые сдали все экзамены:', df[df['OverAll_PassStatus'] == 'P'].shape[0])"
   ]
  },
  {
   "cell_type": "markdown",
   "metadata": {
    "_uuid": "3af9c6cb4cbfff66d4ae09509f10b8b6ce33075d",
    "id": "MofILx62yUki"
   },
   "source": [
    "#### Задание 16. Переведем баллы в оценки\n",
    "\n",
    "### Система перевода баллов в оценки\n",
    "####    больше 90 = A\n",
    "####      80-90 = B\n",
    "####      70-80 = C\n",
    "####      60-70 = D\n",
    "####      50-60 = E\n",
    "####    меньше 50 = F (Fail)\n",
    "\n",
    "Создайте вспомогательную функцию, которая будет по среднему баллу за три экзамена выставлять оценку студенту по данным выше критериям.\n",
    "\n",
    "Создайте столбец Grade и запишите в него оценку каждого студента.\n",
    "\n",
    "Выведите количество студентов, получивших каждую из оценок.\n",
    "\n",
    "**В случае, если средний балл попадает на границу между оценками (т.е. равен ровно 60, 70 или 80 баллов), вы можете интерпретировать условие на своё усмотрение (т.е. можете поставить за 60 баллов оценку D, а можете - E).**"
   ]
  },
  {
   "cell_type": "code",
   "execution_count": 18,
   "metadata": {
    "_uuid": "04707c5be4237020b906d2ac705a0db3d620506f",
    "id": "3ILmFDiFyUki",
    "colab": {
     "base_uri": "https://localhost:8080/",
     "height": 124
    },
    "outputId": "b5e27d5f-d3eb-4d54-97d2-791abba4a4b3"
   },
   "outputs": [
    {
     "data": {
      "text/plain": "A     50\nB    148\nC    261\nD    256\nE    182\nF    103\nName: Grade, dtype: int64"
     },
     "metadata": {},
     "output_type": "display_data"
    }
   ],
   "source": [
    "def GetGrade(average_mark: float) -> str:\n",
    "  if average_mark > 90:\n",
    "    return 'A'\n",
    "  elif average_mark >= 80:\n",
    "    return 'B'\n",
    "  elif average_mark >= 70:\n",
    "    return 'C'\n",
    "  elif average_mark >= 60:\n",
    "    return 'D'\n",
    "  elif average_mark >= 50:\n",
    "    return 'E'\n",
    "  else:\n",
    "    return 'F'\n",
    "\n",
    "temporary = (df['math score'] + df['reading score'] + df['writing score']) / 3\n",
    "df.insert(df.shape[1], 'Grade', temporary.map(GetGrade))\n",
    "display(df['Grade'].value_counts().sort_index(ascending=True))"
   ]
  }
 ],
 "metadata": {
  "kernelspec": {
   "display_name": "Python 3 (ipykernel)",
   "language": "python",
   "name": "python3"
  },
  "language_info": {
   "codemirror_mode": {
    "name": "ipython",
    "version": 3
   },
   "file_extension": ".py",
   "mimetype": "text/x-python",
   "name": "python",
   "nbconvert_exporter": "python",
   "pygments_lexer": "ipython3",
   "version": "3.7.9"
  },
  "colab": {
   "provenance": []
  }
 },
 "nbformat": 4,
 "nbformat_minor": 0
}
